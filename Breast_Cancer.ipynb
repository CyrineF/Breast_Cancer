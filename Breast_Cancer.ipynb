{
  "cells": [
    {
      "cell_type": "code",
      "execution_count": 1,
      "metadata": {
        "colab": {
          "base_uri": "https://localhost:8080/"
        },
        "id": "KLF-z6BPmBU5",
        "outputId": "26c8455e-2299-4720-920f-3126d16b9377"
      },
      "outputs": [
        {
          "output_type": "stream",
          "name": "stdout",
          "text": [
            "Mounted at /content/drive\n"
          ]
        }
      ],
      "source": [
        "from google.colab import drive\n",
        "drive.mount('/content/drive')"
      ]
    },
    {
      "cell_type": "code",
      "execution_count": 2,
      "metadata": {
        "id": "pb7weWxjmqOP"
      },
      "outputs": [],
      "source": [
        "import numpy as np\n",
        "import matplotlib.pyplot as plt\n",
        "import pandas as pd\n",
        "import sklearn\n",
        "import seaborn as sns\n"
      ]
    },
    {
      "cell_type": "code",
      "source": [
        "from sklearn.svm import SVC\n",
        "from sklearn.model_selection import ShuffleSplit\n",
        "from sklearn.model_selection import cross_val_score\n",
        "from sklearn.neighbors import KNeighborsClassifier\n",
        "from sklearn.linear_model import LogisticRegression\n",
        "from sklearn.model_selection import GroupKFold\n",
        "from sklearn.model_selection import validation_curve\n",
        "from sklearn.model_selection import GridSearchCV\n",
        "from imblearn.over_sampling import SMOTE \n",
        "from collections import Counter\n",
        "from sklearn.pipeline import make_pipeline\n",
        "from sklearn.preprocessing import StandardScaler\n",
        "from sklearn.ensemble import RandomForestClassifier, VotingClassifier\n",
        "from sklearn.neural_network import MLPClassifier\n"
      ],
      "metadata": {
        "id": "zW4zn_0f6dDG"
      },
      "execution_count": 3,
      "outputs": []
    },
    {
      "cell_type": "markdown",
      "metadata": {
        "id": "4YxKo9ruIdMb"
      },
      "source": [
        "#Data exploration"
      ]
    },
    {
      "cell_type": "code",
      "execution_count": 20,
      "metadata": {
        "id": "-I6Qo8WtnAlX"
      },
      "outputs": [],
      "source": [
        "data = pd.read_csv('/content/drive/MyDrive/Breast_Cancer.csv')"
      ]
    },
    {
      "cell_type": "code",
      "execution_count": 31,
      "metadata": {
        "colab": {
          "base_uri": "https://localhost:8080/",
          "height": 372
        },
        "id": "YVwtIT3EnTaq",
        "outputId": "b0030c22-1681-491e-c721-8d02d312a36c"
      },
      "outputs": [
        {
          "output_type": "execute_result",
          "data": {
            "text/plain": [
              "   Age   Race Marital Status T Stage  N Stage 6th Stage  \\\n",
              "0   68  White        Married       T1      N1       IIA   \n",
              "1   50  White        Married       T2      N2      IIIA   \n",
              "2   58  White       Divorced       T3      N3      IIIC   \n",
              "3   58  White        Married       T1      N1       IIA   \n",
              "4   47  White        Married       T2      N1       IIB   \n",
              "\n",
              "               differentiate Grade   A Stage  Tumor Size Estrogen Status  \\\n",
              "0      Poorly differentiated     3  Regional           4        Positive   \n",
              "1  Moderately differentiated     2  Regional          35        Positive   \n",
              "2  Moderately differentiated     2  Regional          63        Positive   \n",
              "3      Poorly differentiated     3  Regional          18        Positive   \n",
              "4      Poorly differentiated     3  Regional          41        Positive   \n",
              "\n",
              "  Progesterone Status  Regional Node Examined  Reginol Node Positive  \\\n",
              "0            Positive                      24                      1   \n",
              "1            Positive                      14                      5   \n",
              "2            Positive                      14                      7   \n",
              "3            Positive                       2                      1   \n",
              "4            Positive                       3                      1   \n",
              "\n",
              "   Survival Months Status  \n",
              "0               60  Alive  \n",
              "1               62  Alive  \n",
              "2               75  Alive  \n",
              "3               84  Alive  \n",
              "4               50  Alive  "
            ],
            "text/html": [
              "\n",
              "  <div id=\"df-d24e8af5-464d-493c-b7b8-6771a3c77c09\">\n",
              "    <div class=\"colab-df-container\">\n",
              "      <div>\n",
              "<style scoped>\n",
              "    .dataframe tbody tr th:only-of-type {\n",
              "        vertical-align: middle;\n",
              "    }\n",
              "\n",
              "    .dataframe tbody tr th {\n",
              "        vertical-align: top;\n",
              "    }\n",
              "\n",
              "    .dataframe thead th {\n",
              "        text-align: right;\n",
              "    }\n",
              "</style>\n",
              "<table border=\"1\" class=\"dataframe\">\n",
              "  <thead>\n",
              "    <tr style=\"text-align: right;\">\n",
              "      <th></th>\n",
              "      <th>Age</th>\n",
              "      <th>Race</th>\n",
              "      <th>Marital Status</th>\n",
              "      <th>T Stage</th>\n",
              "      <th>N Stage</th>\n",
              "      <th>6th Stage</th>\n",
              "      <th>differentiate</th>\n",
              "      <th>Grade</th>\n",
              "      <th>A Stage</th>\n",
              "      <th>Tumor Size</th>\n",
              "      <th>Estrogen Status</th>\n",
              "      <th>Progesterone Status</th>\n",
              "      <th>Regional Node Examined</th>\n",
              "      <th>Reginol Node Positive</th>\n",
              "      <th>Survival Months</th>\n",
              "      <th>Status</th>\n",
              "    </tr>\n",
              "  </thead>\n",
              "  <tbody>\n",
              "    <tr>\n",
              "      <th>0</th>\n",
              "      <td>68</td>\n",
              "      <td>White</td>\n",
              "      <td>Married</td>\n",
              "      <td>T1</td>\n",
              "      <td>N1</td>\n",
              "      <td>IIA</td>\n",
              "      <td>Poorly differentiated</td>\n",
              "      <td>3</td>\n",
              "      <td>Regional</td>\n",
              "      <td>4</td>\n",
              "      <td>Positive</td>\n",
              "      <td>Positive</td>\n",
              "      <td>24</td>\n",
              "      <td>1</td>\n",
              "      <td>60</td>\n",
              "      <td>Alive</td>\n",
              "    </tr>\n",
              "    <tr>\n",
              "      <th>1</th>\n",
              "      <td>50</td>\n",
              "      <td>White</td>\n",
              "      <td>Married</td>\n",
              "      <td>T2</td>\n",
              "      <td>N2</td>\n",
              "      <td>IIIA</td>\n",
              "      <td>Moderately differentiated</td>\n",
              "      <td>2</td>\n",
              "      <td>Regional</td>\n",
              "      <td>35</td>\n",
              "      <td>Positive</td>\n",
              "      <td>Positive</td>\n",
              "      <td>14</td>\n",
              "      <td>5</td>\n",
              "      <td>62</td>\n",
              "      <td>Alive</td>\n",
              "    </tr>\n",
              "    <tr>\n",
              "      <th>2</th>\n",
              "      <td>58</td>\n",
              "      <td>White</td>\n",
              "      <td>Divorced</td>\n",
              "      <td>T3</td>\n",
              "      <td>N3</td>\n",
              "      <td>IIIC</td>\n",
              "      <td>Moderately differentiated</td>\n",
              "      <td>2</td>\n",
              "      <td>Regional</td>\n",
              "      <td>63</td>\n",
              "      <td>Positive</td>\n",
              "      <td>Positive</td>\n",
              "      <td>14</td>\n",
              "      <td>7</td>\n",
              "      <td>75</td>\n",
              "      <td>Alive</td>\n",
              "    </tr>\n",
              "    <tr>\n",
              "      <th>3</th>\n",
              "      <td>58</td>\n",
              "      <td>White</td>\n",
              "      <td>Married</td>\n",
              "      <td>T1</td>\n",
              "      <td>N1</td>\n",
              "      <td>IIA</td>\n",
              "      <td>Poorly differentiated</td>\n",
              "      <td>3</td>\n",
              "      <td>Regional</td>\n",
              "      <td>18</td>\n",
              "      <td>Positive</td>\n",
              "      <td>Positive</td>\n",
              "      <td>2</td>\n",
              "      <td>1</td>\n",
              "      <td>84</td>\n",
              "      <td>Alive</td>\n",
              "    </tr>\n",
              "    <tr>\n",
              "      <th>4</th>\n",
              "      <td>47</td>\n",
              "      <td>White</td>\n",
              "      <td>Married</td>\n",
              "      <td>T2</td>\n",
              "      <td>N1</td>\n",
              "      <td>IIB</td>\n",
              "      <td>Poorly differentiated</td>\n",
              "      <td>3</td>\n",
              "      <td>Regional</td>\n",
              "      <td>41</td>\n",
              "      <td>Positive</td>\n",
              "      <td>Positive</td>\n",
              "      <td>3</td>\n",
              "      <td>1</td>\n",
              "      <td>50</td>\n",
              "      <td>Alive</td>\n",
              "    </tr>\n",
              "  </tbody>\n",
              "</table>\n",
              "</div>\n",
              "      <button class=\"colab-df-convert\" onclick=\"convertToInteractive('df-d24e8af5-464d-493c-b7b8-6771a3c77c09')\"\n",
              "              title=\"Convert this dataframe to an interactive table.\"\n",
              "              style=\"display:none;\">\n",
              "        \n",
              "  <svg xmlns=\"http://www.w3.org/2000/svg\" height=\"24px\"viewBox=\"0 0 24 24\"\n",
              "       width=\"24px\">\n",
              "    <path d=\"M0 0h24v24H0V0z\" fill=\"none\"/>\n",
              "    <path d=\"M18.56 5.44l.94 2.06.94-2.06 2.06-.94-2.06-.94-.94-2.06-.94 2.06-2.06.94zm-11 1L8.5 8.5l.94-2.06 2.06-.94-2.06-.94L8.5 2.5l-.94 2.06-2.06.94zm10 10l.94 2.06.94-2.06 2.06-.94-2.06-.94-.94-2.06-.94 2.06-2.06.94z\"/><path d=\"M17.41 7.96l-1.37-1.37c-.4-.4-.92-.59-1.43-.59-.52 0-1.04.2-1.43.59L10.3 9.45l-7.72 7.72c-.78.78-.78 2.05 0 2.83L4 21.41c.39.39.9.59 1.41.59.51 0 1.02-.2 1.41-.59l7.78-7.78 2.81-2.81c.8-.78.8-2.07 0-2.86zM5.41 20L4 18.59l7.72-7.72 1.47 1.35L5.41 20z\"/>\n",
              "  </svg>\n",
              "      </button>\n",
              "      \n",
              "  <style>\n",
              "    .colab-df-container {\n",
              "      display:flex;\n",
              "      flex-wrap:wrap;\n",
              "      gap: 12px;\n",
              "    }\n",
              "\n",
              "    .colab-df-convert {\n",
              "      background-color: #E8F0FE;\n",
              "      border: none;\n",
              "      border-radius: 50%;\n",
              "      cursor: pointer;\n",
              "      display: none;\n",
              "      fill: #1967D2;\n",
              "      height: 32px;\n",
              "      padding: 0 0 0 0;\n",
              "      width: 32px;\n",
              "    }\n",
              "\n",
              "    .colab-df-convert:hover {\n",
              "      background-color: #E2EBFA;\n",
              "      box-shadow: 0px 1px 2px rgba(60, 64, 67, 0.3), 0px 1px 3px 1px rgba(60, 64, 67, 0.15);\n",
              "      fill: #174EA6;\n",
              "    }\n",
              "\n",
              "    [theme=dark] .colab-df-convert {\n",
              "      background-color: #3B4455;\n",
              "      fill: #D2E3FC;\n",
              "    }\n",
              "\n",
              "    [theme=dark] .colab-df-convert:hover {\n",
              "      background-color: #434B5C;\n",
              "      box-shadow: 0px 1px 3px 1px rgba(0, 0, 0, 0.15);\n",
              "      filter: drop-shadow(0px 1px 2px rgba(0, 0, 0, 0.3));\n",
              "      fill: #FFFFFF;\n",
              "    }\n",
              "  </style>\n",
              "\n",
              "      <script>\n",
              "        const buttonEl =\n",
              "          document.querySelector('#df-d24e8af5-464d-493c-b7b8-6771a3c77c09 button.colab-df-convert');\n",
              "        buttonEl.style.display =\n",
              "          google.colab.kernel.accessAllowed ? 'block' : 'none';\n",
              "\n",
              "        async function convertToInteractive(key) {\n",
              "          const element = document.querySelector('#df-d24e8af5-464d-493c-b7b8-6771a3c77c09');\n",
              "          const dataTable =\n",
              "            await google.colab.kernel.invokeFunction('convertToInteractive',\n",
              "                                                     [key], {});\n",
              "          if (!dataTable) return;\n",
              "\n",
              "          const docLinkHtml = 'Like what you see? Visit the ' +\n",
              "            '<a target=\"_blank\" href=https://colab.research.google.com/notebooks/data_table.ipynb>data table notebook</a>'\n",
              "            + ' to learn more about interactive tables.';\n",
              "          element.innerHTML = '';\n",
              "          dataTable['output_type'] = 'display_data';\n",
              "          await google.colab.output.renderOutput(dataTable, element);\n",
              "          const docLink = document.createElement('div');\n",
              "          docLink.innerHTML = docLinkHtml;\n",
              "          element.appendChild(docLink);\n",
              "        }\n",
              "      </script>\n",
              "    </div>\n",
              "  </div>\n",
              "  "
            ]
          },
          "metadata": {},
          "execution_count": 31
        }
      ],
      "source": [
        "data.head()"
      ]
    },
    {
      "cell_type": "code",
      "execution_count": null,
      "metadata": {
        "id": "0oLdlW3lnjfP",
        "colab": {
          "base_uri": "https://localhost:8080/"
        },
        "outputId": "9f90aaf3-fba5-47f7-80e3-391f750b70aa"
      },
      "outputs": [
        {
          "output_type": "stream",
          "name": "stdout",
          "text": [
            "<class 'pandas.core.frame.DataFrame'>\n",
            "RangeIndex: 4024 entries, 0 to 4023\n",
            "Data columns (total 16 columns):\n",
            " #   Column                  Non-Null Count  Dtype\n",
            "---  ------                  --------------  -----\n",
            " 0   Age                     4024 non-null   int64\n",
            " 1   Race                    4024 non-null   int64\n",
            " 2   Marital Status          4024 non-null   int64\n",
            " 3   T Stage                 4024 non-null   int64\n",
            " 4   N Stage                 4024 non-null   int64\n",
            " 5   6th Stage               4024 non-null   int64\n",
            " 6   differentiate           4024 non-null   int64\n",
            " 7   Grade                   4024 non-null   int64\n",
            " 8   A Stage                 4024 non-null   int64\n",
            " 9   Tumor Size              4024 non-null   int64\n",
            " 10  Estrogen Status         4024 non-null   int64\n",
            " 11  Progesterone Status     4024 non-null   int64\n",
            " 12  Regional Node Examined  4024 non-null   int64\n",
            " 13  Reginol Node Positive   4024 non-null   int64\n",
            " 14  Survival Months         4024 non-null   int64\n",
            " 15  Status                  4024 non-null   int64\n",
            "dtypes: int64(16)\n",
            "memory usage: 503.1 KB\n"
          ]
        }
      ],
      "source": [
        "data.info()"
      ]
    },
    {
      "cell_type": "code",
      "execution_count": null,
      "metadata": {
        "id": "h_d4BbzdLjjc",
        "colab": {
          "base_uri": "https://localhost:8080/",
          "height": 458
        },
        "outputId": "baba5e6a-9bb6-43b2-b347-e19d1d64df99"
      },
      "outputs": [
        {
          "output_type": "execute_result",
          "data": {
            "text/plain": [
              "<seaborn.axisgrid.JointGrid at 0x7f0031c69950>"
            ]
          },
          "metadata": {},
          "execution_count": 6
        },
        {
          "output_type": "display_data",
          "data": {
            "text/plain": [
              "<Figure size 432x432 with 3 Axes>"
            ],
            "image/png": "[encoded data removed]"
          },
          "metadata": {}
        }
      ],
      "source": [
        "%matplotlib inline\n",
        "\n",
        "sns.set_palette(\"GnBu_d\")\n",
        "sns.set_style('whitegrid')\n",
        "\n",
        "sns.jointplot(x='Tumor Size',y='Status',data=data)"
      ]
    },
    {
      "cell_type": "code",
      "execution_count": null,
      "metadata": {
        "id": "GkSwUyEAR8l8"
      },
      "outputs": [],
      "source": [
        "sns.lmplot(x='Age', y='Status',data=data)"
      ]
    },
    {
      "cell_type": "code",
      "execution_count": null,
      "metadata": {
        "id": "rZkmIcmbSO60"
      },
      "outputs": [],
      "source": [
        "sns.pairplot(data)"
      ]
    },
    {
      "cell_type": "code",
      "execution_count": null,
      "metadata": {
        "colab": {
          "base_uri": "https://localhost:8080/"
        },
        "id": "ar1bTwvlSfCA",
        "outputId": "e6c858ca-ba44-4f20-f3fa-5ca13009f2e4"
      },
      "outputs": [
        {
          "data": {
            "text/plain": [
              "(4024, 16)"
            ]
          },
          "execution_count": 25,
          "metadata": {},
          "output_type": "execute_result"
        }
      ],
      "source": [
        "data.shape"
      ]
    },
    {
      "cell_type": "code",
      "execution_count": null,
      "metadata": {
        "colab": {
          "base_uri": "https://localhost:8080/"
        },
        "id": "d-UfwtULn8G6",
        "outputId": "8ae6e72f-f8d4-4707-d174-d447dd3e558d"
      },
      "outputs": [
        {
          "data": {
            "text/plain": [
              "array(['White', 'Black', 'Other'], dtype=object)"
            ]
          },
          "execution_count": 6,
          "metadata": {},
          "output_type": "execute_result"
        }
      ],
      "source": [
        "data['Race'].unique()"
      ]
    },
    {
      "cell_type": "code",
      "execution_count": null,
      "metadata": {
        "colab": {
          "base_uri": "https://localhost:8080/"
        },
        "id": "aofSsf_JoEJw",
        "outputId": "a4268476-586a-4162-c221-c79fcb64f274"
      },
      "outputs": [
        {
          "data": {
            "text/plain": [
              "array(['Married', 'Divorced', 'Single ', 'Widowed', 'Separated'],\n",
              "      dtype=object)"
            ]
          },
          "execution_count": 7,
          "metadata": {},
          "output_type": "execute_result"
        }
      ],
      "source": [
        "data['Marital Status'].unique()"
      ]
    },
    {
      "cell_type": "code",
      "execution_count": null,
      "metadata": {
        "colab": {
          "base_uri": "https://localhost:8080/"
        },
        "id": "HSY692AMtA5y",
        "outputId": "004635b2-ff77-4914-b36a-85c2e74cbd92"
      },
      "outputs": [
        {
          "data": {
            "text/plain": [
              "array(['T1', 'T2', 'T3', 'T4'], dtype=object)"
            ]
          },
          "execution_count": 8,
          "metadata": {},
          "output_type": "execute_result"
        }
      ],
      "source": [
        "data['T Stage '].unique()"
      ]
    },
    {
      "cell_type": "code",
      "execution_count": null,
      "metadata": {
        "colab": {
          "base_uri": "https://localhost:8080/"
        },
        "id": "-RyhekLRtGs3",
        "outputId": "1200a514-4a77-4099-f417-6c1683dd4d35"
      },
      "outputs": [
        {
          "data": {
            "text/plain": [
              "array(['N1', 'N2', 'N3'], dtype=object)"
            ]
          },
          "execution_count": 9,
          "metadata": {},
          "output_type": "execute_result"
        }
      ],
      "source": [
        "data['N Stage'].unique()"
      ]
    },
    {
      "cell_type": "code",
      "execution_count": null,
      "metadata": {
        "colab": {
          "base_uri": "https://localhost:8080/"
        },
        "id": "vmzp1tp_tRCy",
        "outputId": "fd783c05-ad2c-4d08-805c-de725960e658"
      },
      "outputs": [
        {
          "data": {
            "text/plain": [
              "array(['IIA', 'IIIA', 'IIIC', 'IIB', 'IIIB'], dtype=object)"
            ]
          },
          "execution_count": 10,
          "metadata": {},
          "output_type": "execute_result"
        }
      ],
      "source": [
        "data['6th Stage'].unique()"
      ]
    },
    {
      "cell_type": "code",
      "execution_count": null,
      "metadata": {
        "colab": {
          "base_uri": "https://localhost:8080/"
        },
        "id": "m_fVPlnstmEV",
        "outputId": "95fe2184-314b-4d57-edc2-03548fe23dc8"
      },
      "outputs": [
        {
          "data": {
            "text/plain": [
              "array(['Poorly differentiated', 'Moderately differentiated',\n",
              "       'Well differentiated', 'Undifferentiated'], dtype=object)"
            ]
          },
          "execution_count": 11,
          "metadata": {},
          "output_type": "execute_result"
        }
      ],
      "source": [
        "data['differentiate'].unique()"
      ]
    },
    {
      "cell_type": "code",
      "execution_count": null,
      "metadata": {
        "colab": {
          "base_uri": "https://localhost:8080/"
        },
        "id": "HUG2U6gLt57n",
        "outputId": "42c55353-2d68-4869-c3df-e88658b2c9f2"
      },
      "outputs": [
        {
          "data": {
            "text/plain": [
              "array(['3', '2', '1', ' anaplastic; Grade IV'], dtype=object)"
            ]
          },
          "execution_count": 12,
          "metadata": {},
          "output_type": "execute_result"
        }
      ],
      "source": [
        "data['Grade'].unique()"
      ]
    },
    {
      "cell_type": "code",
      "execution_count": null,
      "metadata": {
        "colab": {
          "base_uri": "https://localhost:8080/"
        },
        "id": "PyM0jfZcuMsU",
        "outputId": "4657ff4b-3ca3-4e39-f0ca-1ab0dc6eb605"
      },
      "outputs": [
        {
          "data": {
            "text/plain": [
              "array(['Regional', 'Distant'], dtype=object)"
            ]
          },
          "execution_count": 13,
          "metadata": {},
          "output_type": "execute_result"
        }
      ],
      "source": [
        "data['A Stage'].unique()"
      ]
    },
    {
      "cell_type": "code",
      "execution_count": null,
      "metadata": {
        "colab": {
          "base_uri": "https://localhost:8080/"
        },
        "id": "-Fy0r6mdGWUT",
        "outputId": "9c2651f6-1128-49da-adab-b59f20b2ba2e"
      },
      "outputs": [
        {
          "data": {
            "text/plain": [
              "array(['Positive', 'Negative'], dtype=object)"
            ]
          },
          "execution_count": 14,
          "metadata": {},
          "output_type": "execute_result"
        }
      ],
      "source": [
        "data['Estrogen Status'].unique()"
      ]
    },
    {
      "cell_type": "code",
      "execution_count": null,
      "metadata": {
        "colab": {
          "base_uri": "https://localhost:8080/"
        },
        "id": "srvjo0NgGd5L",
        "outputId": "dd9bef8c-2f0a-4812-e334-526586b80797"
      },
      "outputs": [
        {
          "data": {
            "text/plain": [
              "array(['Positive', 'Negative'], dtype=object)"
            ]
          },
          "execution_count": 15,
          "metadata": {},
          "output_type": "execute_result"
        }
      ],
      "source": [
        "data['Progesterone Status'].unique()"
      ]
    },
    {
      "cell_type": "code",
      "execution_count": null,
      "metadata": {
        "colab": {
          "base_uri": "https://localhost:8080/"
        },
        "id": "MoC1lKyyt0a1",
        "outputId": "6bb658e4-6176-478b-ab87-63c6b6a828e6"
      },
      "outputs": [
        {
          "data": {
            "text/plain": [
              "array(['Alive', 'Dead'], dtype=object)"
            ]
          },
          "execution_count": 16,
          "metadata": {},
          "output_type": "execute_result"
        }
      ],
      "source": [
        "data['Status'].unique()"
      ]
    },
    {
      "cell_type": "markdown",
      "source": [
        "#Feature engineering of numeric attributes"
      ],
      "metadata": {
        "id": "HmwYkp9m9NTb"
      }
    },
    {
      "cell_type": "code",
      "source": [
        "my_df_numeric = data[['Tumor Size', 'Age', 'Regional Node Examined', 'Survival Months','Reginol Node Positive']]"
      ],
      "metadata": {
        "id": "ewg1qeO_9M1T"
      },
      "execution_count": 5,
      "outputs": []
    },
    {
      "cell_type": "code",
      "source": [
        "import seaborn as sns\n",
        "numeric_variables = ['Tumor Size', 'Age', 'Regional Node Examined', 'Survival Months','Reginol Node Positive']\n",
        "sns.set_style('darkgrid')\n",
        "fig, axes = plt.subplots(nrows = 2, ncols = 3, figsize = (15, 10))\n",
        "fig.suptitle('Box plots', y= 0.93, fontsize = 15)\n",
        "\n",
        "for ax, data, name in zip(axes.flatten(), my_df_numeric, numeric_variables):\n",
        "  sns.boxplot(my_df_numeric[name], ax = ax)"
      ],
      "metadata": {
        "colab": {
          "base_uri": "https://localhost:8080/",
          "height": 835
        },
        "id": "Jxeg3NwK9zS6",
        "outputId": "9bec502a-105d-469e-9263-063b46547806"
      },
      "execution_count": 6,
      "outputs": [
        {
          "output_type": "stream",
          "name": "stderr",
          "text": [
            "/usr/local/lib/python3.7/dist-packages/seaborn/_decorators.py:43: FutureWarning: Pass the following variable as a keyword arg: x. From version 0.12, the only valid positional argument will be `data`, and passing other arguments without an explicit keyword will result in an error or misinterpretation.\n",
            "  FutureWarning\n",
            "/usr/local/lib/python3.7/dist-packages/seaborn/_decorators.py:43: FutureWarning: Pass the following variable as a keyword arg: x. From version 0.12, the only valid positional argument will be `data`, and passing other arguments without an explicit keyword will result in an error or misinterpretation.\n",
            "  FutureWarning\n",
            "/usr/local/lib/python3.7/dist-packages/seaborn/_decorators.py:43: FutureWarning: Pass the following variable as a keyword arg: x. From version 0.12, the only valid positional argument will be `data`, and passing other arguments without an explicit keyword will result in an error or misinterpretation.\n",
            "  FutureWarning\n",
            "/usr/local/lib/python3.7/dist-packages/seaborn/_decorators.py:43: FutureWarning: Pass the following variable as a keyword arg: x. From version 0.12, the only valid positional argument will be `data`, and passing other arguments without an explicit keyword will result in an error or misinterpretation.\n",
            "  FutureWarning\n",
            "/usr/local/lib/python3.7/dist-packages/seaborn/_decorators.py:43: FutureWarning: Pass the following variable as a keyword arg: x. From version 0.12, the only valid positional argument will be `data`, and passing other arguments without an explicit keyword will result in an error or misinterpretation.\n",
            "  FutureWarning\n"
          ]
        },
        {
          "output_type": "display_data",
          "data": {
            "text/plain": [
              "<Figure size 1080x720 with 6 Axes>"
            ],
            "image/png": "[encoded data removed]"
          },
          "metadata": {}
        }
      ]
    },
    {
      "cell_type": "code",
      "source": [
        "numeric_variables = ['Tumor Size', 'Age', 'Regional Node Examined', 'Survival Months','Reginol Node Positive']\n",
        "sns.set_style('darkgrid')\n",
        "fig, axes = plt.subplots(nrows = 2, ncols = 3, figsize = (15, 10))\n",
        "fig.suptitle('Box plots', y= 0.93, fontsize = 15)\n",
        "\n",
        "for ax, data, name in zip(axes.flatten(), my_df_numeric, numeric_variables):\n",
        "  sns.histplot(my_df_numeric[name], ax = ax)"
      ],
      "metadata": {
        "colab": {
          "base_uri": "https://localhost:8080/",
          "height": 641
        },
        "id": "hmsML9FKAoKn",
        "outputId": "71d3a8ac-4422-4b89-de9c-9ce9ded3e35c"
      },
      "execution_count": 7,
      "outputs": [
        {
          "output_type": "display_data",
          "data": {
            "text/plain": [
              "<Figure size 1080x720 with 6 Axes>"
            ],
            "image/png": "[encoded data removed]"
          },
          "metadata": {}
        }
      ]
    },
    {
      "cell_type": "code",
      "source": [
        "non_skewed_data = my_df_numeric[['Survival Months','Age']]\n",
        "skewed_data = my_df_numeric[['Reginol Node Positive','Regional Node Examined','Tumor Size']]"
      ],
      "metadata": {
        "id": "6LMMI2xV-qUf"
      },
      "execution_count": 8,
      "outputs": []
    },
    {
      "cell_type": "markdown",
      "source": [
        "MinMax Normalisation for non-skewed-data"
      ],
      "metadata": {
        "id": "5hllXKxtBYfT"
      }
    },
    {
      "cell_type": "code",
      "source": [
        "normalized_data = pd.DataFrame()  "
      ],
      "metadata": {
        "id": "Cl6PmgceB5H5"
      },
      "execution_count": 9,
      "outputs": []
    },
    {
      "cell_type": "code",
      "source": [
        "from sklearn.preprocessing import MinMaxScaler\n",
        "mms = MinMaxScaler()\n",
        "minmax_scale = mms.fit(non_skewed_data)\n",
        "scaled_variables = minmax_scale.transform(non_skewed_data)"
      ],
      "metadata": {
        "id": "FRDKzJ2MBXgh"
      },
      "execution_count": 10,
      "outputs": []
    },
    {
      "cell_type": "code",
      "source": [
        "scaled_variables = scaled_variables.T\n",
        "i=0\n",
        "for l in list(non_skewed_data.columns) : \n",
        "  normalized_data[l]= scaled_variables[i]\n",
        "  i+=1"
      ],
      "metadata": {
        "id": "6FJCgmzQDmG4"
      },
      "execution_count": 11,
      "outputs": []
    },
    {
      "cell_type": "code",
      "source": [
        "normalized_data"
      ],
      "metadata": {
        "colab": {
          "base_uri": "https://localhost:8080/",
          "height": 424
        },
        "id": "RKMp-A7yCHeB",
        "outputId": "4294b282-934c-4ad4-ff1a-5e4b86b9a8a4"
      },
      "execution_count": 42,
      "outputs": [
        {
          "output_type": "execute_result",
          "data": {
            "text/plain": [
              "      Survival Months       Age\n",
              "0            0.556604  0.974359\n",
              "1            0.575472  0.512821\n",
              "2            0.698113  0.717949\n",
              "3            0.783019  0.717949\n",
              "4            0.462264  0.435897\n",
              "...               ...       ...\n",
              "4019         0.452830  0.820513\n",
              "4020         0.641509  0.666667\n",
              "4021         0.641509  0.974359\n",
              "4022         0.669811  0.717949\n",
              "4023         0.933962  0.410256\n",
              "\n",
              "[4024 rows x 2 columns]"
            ],
            "text/html": [
              "\n",
              "  <div id=\"df-dd1fd6c1-c8da-4f91-8c50-bdf5e88494ae\">\n",
              "    <div class=\"colab-df-container\">\n",
              "      <div>\n",
              "<style scoped>\n",
              "    .dataframe tbody tr th:only-of-type {\n",
              "        vertical-align: middle;\n",
              "    }\n",
              "\n",
              "    .dataframe tbody tr th {\n",
              "        vertical-align: top;\n",
              "    }\n",
              "\n",
              "    .dataframe thead th {\n",
              "        text-align: right;\n",
              "    }\n",
              "</style>\n",
              "<table border=\"1\" class=\"dataframe\">\n",
              "  <thead>\n",
              "    <tr style=\"text-align: right;\">\n",
              "      <th></th>\n",
              "      <th>Survival Months</th>\n",
              "      <th>Age</th>\n",
              "    </tr>\n",
              "  </thead>\n",
              "  <tbody>\n",
              "    <tr>\n",
              "      <th>0</th>\n",
              "      <td>0.556604</td>\n",
              "      <td>0.974359</td>\n",
              "    </tr>\n",
              "    <tr>\n",
              "      <th>1</th>\n",
              "      <td>0.575472</td>\n",
              "      <td>0.512821</td>\n",
              "    </tr>\n",
              "    <tr>\n",
              "      <th>2</th>\n",
              "      <td>0.698113</td>\n",
              "      <td>0.717949</td>\n",
              "    </tr>\n",
              "    <tr>\n",
              "      <th>3</th>\n",
              "      <td>0.783019</td>\n",
              "      <td>0.717949</td>\n",
              "    </tr>\n",
              "    <tr>\n",
              "      <th>4</th>\n",
              "      <td>0.462264</td>\n",
              "      <td>0.435897</td>\n",
              "    </tr>\n",
              "    <tr>\n",
              "      <th>...</th>\n",
              "      <td>...</td>\n",
              "      <td>...</td>\n",
              "    </tr>\n",
              "    <tr>\n",
              "      <th>4019</th>\n",
              "      <td>0.452830</td>\n",
              "      <td>0.820513</td>\n",
              "    </tr>\n",
              "    <tr>\n",
              "      <th>4020</th>\n",
              "      <td>0.641509</td>\n",
              "      <td>0.666667</td>\n",
              "    </tr>\n",
              "    <tr>\n",
              "      <th>4021</th>\n",
              "      <td>0.641509</td>\n",
              "      <td>0.974359</td>\n",
              "    </tr>\n",
              "    <tr>\n",
              "      <th>4022</th>\n",
              "      <td>0.669811</td>\n",
              "      <td>0.717949</td>\n",
              "    </tr>\n",
              "    <tr>\n",
              "      <th>4023</th>\n",
              "      <td>0.933962</td>\n",
              "      <td>0.410256</td>\n",
              "    </tr>\n",
              "  </tbody>\n",
              "</table>\n",
              "<p>4024 rows × 2 columns</p>\n",
              "</div>\n",
              "      <button class=\"colab-df-convert\" onclick=\"convertToInteractive('df-dd1fd6c1-c8da-4f91-8c50-bdf5e88494ae')\"\n",
              "              title=\"Convert this dataframe to an interactive table.\"\n",
              "              style=\"display:none;\">\n",
              "        \n",
              "  <svg xmlns=\"http://www.w3.org/2000/svg\" height=\"24px\"viewBox=\"0 0 24 24\"\n",
              "       width=\"24px\">\n",
              "    <path d=\"M0 0h24v24H0V0z\" fill=\"none\"/>\n",
              "    <path d=\"M18.56 5.44l.94 2.06.94-2.06 2.06-.94-2.06-.94-.94-2.06-.94 2.06-2.06.94zm-11 1L8.5 8.5l.94-2.06 2.06-.94-2.06-.94L8.5 2.5l-.94 2.06-2.06.94zm10 10l.94 2.06.94-2.06 2.06-.94-2.06-.94-.94-2.06-.94 2.06-2.06.94z\"/><path d=\"M17.41 7.96l-1.37-1.37c-.4-.4-.92-.59-1.43-.59-.52 0-1.04.2-1.43.59L10.3 9.45l-7.72 7.72c-.78.78-.78 2.05 0 2.83L4 21.41c.39.39.9.59 1.41.59.51 0 1.02-.2 1.41-.59l7.78-7.78 2.81-2.81c.8-.78.8-2.07 0-2.86zM5.41 20L4 18.59l7.72-7.72 1.47 1.35L5.41 20z\"/>\n",
              "  </svg>\n",
              "      </button>\n",
              "      \n",
              "  <style>\n",
              "    .colab-df-container {\n",
              "      display:flex;\n",
              "      flex-wrap:wrap;\n",
              "      gap: 12px;\n",
              "    }\n",
              "\n",
              "    .colab-df-convert {\n",
              "      background-color: #E8F0FE;\n",
              "      border: none;\n",
              "      border-radius: 50%;\n",
              "      cursor: pointer;\n",
              "      display: none;\n",
              "      fill: #1967D2;\n",
              "      height: 32px;\n",
              "      padding: 0 0 0 0;\n",
              "      width: 32px;\n",
              "    }\n",
              "\n",
              "    .colab-df-convert:hover {\n",
              "      background-color: #E2EBFA;\n",
              "      box-shadow: 0px 1px 2px rgba(60, 64, 67, 0.3), 0px 1px 3px 1px rgba(60, 64, 67, 0.15);\n",
              "      fill: #174EA6;\n",
              "    }\n",
              "\n",
              "    [theme=dark] .colab-df-convert {\n",
              "      background-color: #3B4455;\n",
              "      fill: #D2E3FC;\n",
              "    }\n",
              "\n",
              "    [theme=dark] .colab-df-convert:hover {\n",
              "      background-color: #434B5C;\n",
              "      box-shadow: 0px 1px 3px 1px rgba(0, 0, 0, 0.15);\n",
              "      filter: drop-shadow(0px 1px 2px rgba(0, 0, 0, 0.3));\n",
              "      fill: #FFFFFF;\n",
              "    }\n",
              "  </style>\n",
              "\n",
              "      <script>\n",
              "        const buttonEl =\n",
              "          document.querySelector('#df-dd1fd6c1-c8da-4f91-8c50-bdf5e88494ae button.colab-df-convert');\n",
              "        buttonEl.style.display =\n",
              "          google.colab.kernel.accessAllowed ? 'block' : 'none';\n",
              "\n",
              "        async function convertToInteractive(key) {\n",
              "          const element = document.querySelector('#df-dd1fd6c1-c8da-4f91-8c50-bdf5e88494ae');\n",
              "          const dataTable =\n",
              "            await google.colab.kernel.invokeFunction('convertToInteractive',\n",
              "                                                     [key], {});\n",
              "          if (!dataTable) return;\n",
              "\n",
              "          const docLinkHtml = 'Like what you see? Visit the ' +\n",
              "            '<a target=\"_blank\" href=https://colab.research.google.com/notebooks/data_table.ipynb>data table notebook</a>'\n",
              "            + ' to learn more about interactive tables.';\n",
              "          element.innerHTML = '';\n",
              "          dataTable['output_type'] = 'display_data';\n",
              "          await google.colab.output.renderOutput(dataTable, element);\n",
              "          const docLink = document.createElement('div');\n",
              "          docLink.innerHTML = docLinkHtml;\n",
              "          element.appendChild(docLink);\n",
              "        }\n",
              "      </script>\n",
              "    </div>\n",
              "  </div>\n",
              "  "
            ]
          },
          "metadata": {},
          "execution_count": 42
        }
      ]
    },
    {
      "cell_type": "markdown",
      "source": [
        "log normalization + MinMax normalization for skewed_data"
      ],
      "metadata": {
        "id": "W8pppi3EFDXj"
      }
    },
    {
      "cell_type": "code",
      "source": [
        "import math\n",
        "def logg(x):\n",
        "    if x > 0:\n",
        "        return math.log(x)\n",
        "    elif x < 0:\n",
        "        return math.log(x*-1)*-1\n",
        "    elif x == 0:\n",
        "        return 0\n",
        "for f in list(skewed_data.columns) : \n",
        "    normalized_data[f] = my_df_numeric[f].map(logg)\n",
        "    arr = np.array(normalized_data[f])\n",
        "    minmax_scale = mms.fit(arr.reshape(-1,1))\n",
        "    normalized_data[f] = minmax_scale.transform(arr.reshape(-1,1))"
      ],
      "metadata": {
        "id": "MXxEwCQeFK6-"
      },
      "execution_count": 12,
      "outputs": []
    },
    {
      "cell_type": "code",
      "source": [
        "normalized_data"
      ],
      "metadata": {
        "id": "XERV986yI_wG",
        "colab": {
          "base_uri": "https://localhost:8080/",
          "height": 424
        },
        "outputId": "b5cadf7d-d147-416e-9cce-137dc86161fa"
      },
      "execution_count": 13,
      "outputs": [
        {
          "output_type": "execute_result",
          "data": {
            "text/plain": [
              "      Survival Months       Age  Reginol Node Positive  \\\n",
              "0            0.556604  0.974359               0.000000   \n",
              "1            0.575472  0.512821               0.420368   \n",
              "2            0.698113  0.717949               0.508251   \n",
              "3            0.783019  0.717949               0.000000   \n",
              "4            0.462264  0.435897               0.000000   \n",
              "...               ...       ...                    ...   \n",
              "4019         0.452830  0.820513               0.000000   \n",
              "4020         0.641509  0.666667               0.543128   \n",
              "4021         0.641509  0.974359               0.286946   \n",
              "4022         0.669811  0.717949               0.000000   \n",
              "4023         0.933962  0.410256               0.181043   \n",
              "\n",
              "      Regional Node Examined  Tumor Size  \n",
              "0                   0.773085    0.280533  \n",
              "1                   0.641970    0.719467  \n",
              "2                   0.641970    0.838412  \n",
              "3                   0.168613    0.584901  \n",
              "4                   0.267245    0.751485  \n",
              "...                      ...         ...  \n",
              "4019                0.000000    0.444634  \n",
              "4020                0.641970    0.774771  \n",
              "4021                0.583305    0.625509  \n",
              "4022                0.583305    0.765776  \n",
              "4023                0.473357    0.688273  \n",
              "\n",
              "[4024 rows x 5 columns]"
            ],
            "text/html": [
              "\n",
              "  <div id=\"df-aeef4b6e-af21-4fa2-b5f6-98d0e773ec18\">\n",
              "    <div class=\"colab-df-container\">\n",
              "      <div>\n",
              "<style scoped>\n",
              "    .dataframe tbody tr th:only-of-type {\n",
              "        vertical-align: middle;\n",
              "    }\n",
              "\n",
              "    .dataframe tbody tr th {\n",
              "        vertical-align: top;\n",
              "    }\n",
              "\n",
              "    .dataframe thead th {\n",
              "        text-align: right;\n",
              "    }\n",
              "</style>\n",
              "<table border=\"1\" class=\"dataframe\">\n",
              "  <thead>\n",
              "    <tr style=\"text-align: right;\">\n",
              "      <th></th>\n",
              "      <th>Survival Months</th>\n",
              "      <th>Age</th>\n",
              "      <th>Reginol Node Positive</th>\n",
              "      <th>Regional Node Examined</th>\n",
              "      <th>Tumor Size</th>\n",
              "    </tr>\n",
              "  </thead>\n",
              "  <tbody>\n",
              "    <tr>\n",
              "      <th>0</th>\n",
              "      <td>0.556604</td>\n",
              "      <td>0.974359</td>\n",
              "      <td>0.000000</td>\n",
              "      <td>0.773085</td>\n",
              "      <td>0.280533</td>\n",
              "    </tr>\n",
              "    <tr>\n",
              "      <th>1</th>\n",
              "      <td>0.575472</td>\n",
              "      <td>0.512821</td>\n",
              "      <td>0.420368</td>\n",
              "      <td>0.641970</td>\n",
              "      <td>0.719467</td>\n",
              "    </tr>\n",
              "    <tr>\n",
              "      <th>2</th>\n",
              "      <td>0.698113</td>\n",
              "      <td>0.717949</td>\n",
              "      <td>0.508251</td>\n",
              "      <td>0.641970</td>\n",
              "      <td>0.838412</td>\n",
              "    </tr>\n",
              "    <tr>\n",
              "      <th>3</th>\n",
              "      <td>0.783019</td>\n",
              "      <td>0.717949</td>\n",
              "      <td>0.000000</td>\n",
              "      <td>0.168613</td>\n",
              "      <td>0.584901</td>\n",
              "    </tr>\n",
              "    <tr>\n",
              "      <th>4</th>\n",
              "      <td>0.462264</td>\n",
              "      <td>0.435897</td>\n",
              "      <td>0.000000</td>\n",
              "      <td>0.267245</td>\n",
              "      <td>0.751485</td>\n",
              "    </tr>\n",
              "    <tr>\n",
              "      <th>...</th>\n",
              "      <td>...</td>\n",
              "      <td>...</td>\n",
              "      <td>...</td>\n",
              "      <td>...</td>\n",
              "      <td>...</td>\n",
              "    </tr>\n",
              "    <tr>\n",
              "      <th>4019</th>\n",
              "      <td>0.452830</td>\n",
              "      <td>0.820513</td>\n",
              "      <td>0.000000</td>\n",
              "      <td>0.000000</td>\n",
              "      <td>0.444634</td>\n",
              "    </tr>\n",
              "    <tr>\n",
              "      <th>4020</th>\n",
              "      <td>0.641509</td>\n",
              "      <td>0.666667</td>\n",
              "      <td>0.543128</td>\n",
              "      <td>0.641970</td>\n",
              "      <td>0.774771</td>\n",
              "    </tr>\n",
              "    <tr>\n",
              "      <th>4021</th>\n",
              "      <td>0.641509</td>\n",
              "      <td>0.974359</td>\n",
              "      <td>0.286946</td>\n",
              "      <td>0.583305</td>\n",
              "      <td>0.625509</td>\n",
              "    </tr>\n",
              "    <tr>\n",
              "      <th>4022</th>\n",
              "      <td>0.669811</td>\n",
              "      <td>0.717949</td>\n",
              "      <td>0.000000</td>\n",
              "      <td>0.583305</td>\n",
              "      <td>0.765776</td>\n",
              "    </tr>\n",
              "    <tr>\n",
              "      <th>4023</th>\n",
              "      <td>0.933962</td>\n",
              "      <td>0.410256</td>\n",
              "      <td>0.181043</td>\n",
              "      <td>0.473357</td>\n",
              "      <td>0.688273</td>\n",
              "    </tr>\n",
              "  </tbody>\n",
              "</table>\n",
              "<p>4024 rows × 5 columns</p>\n",
              "</div>\n",
              "      <button class=\"colab-df-convert\" onclick=\"convertToInteractive('df-aeef4b6e-af21-4fa2-b5f6-98d0e773ec18')\"\n",
              "              title=\"Convert this dataframe to an interactive table.\"\n",
              "              style=\"display:none;\">\n",
              "        \n",
              "  <svg xmlns=\"http://www.w3.org/2000/svg\" height=\"24px\"viewBox=\"0 0 24 24\"\n",
              "       width=\"24px\">\n",
              "    <path d=\"M0 0h24v24H0V0z\" fill=\"none\"/>\n",
              "    <path d=\"M18.56 5.44l.94 2.06.94-2.06 2.06-.94-2.06-.94-.94-2.06-.94 2.06-2.06.94zm-11 1L8.5 8.5l.94-2.06 2.06-.94-2.06-.94L8.5 2.5l-.94 2.06-2.06.94zm10 10l.94 2.06.94-2.06 2.06-.94-2.06-.94-.94-2.06-.94 2.06-2.06.94z\"/><path d=\"M17.41 7.96l-1.37-1.37c-.4-.4-.92-.59-1.43-.59-.52 0-1.04.2-1.43.59L10.3 9.45l-7.72 7.72c-.78.78-.78 2.05 0 2.83L4 21.41c.39.39.9.59 1.41.59.51 0 1.02-.2 1.41-.59l7.78-7.78 2.81-2.81c.8-.78.8-2.07 0-2.86zM5.41 20L4 18.59l7.72-7.72 1.47 1.35L5.41 20z\"/>\n",
              "  </svg>\n",
              "      </button>\n",
              "      \n",
              "  <style>\n",
              "    .colab-df-container {\n",
              "      display:flex;\n",
              "      flex-wrap:wrap;\n",
              "      gap: 12px;\n",
              "    }\n",
              "\n",
              "    .colab-df-convert {\n",
              "      background-color: #E8F0FE;\n",
              "      border: none;\n",
              "      border-radius: 50%;\n",
              "      cursor: pointer;\n",
              "      display: none;\n",
              "      fill: #1967D2;\n",
              "      height: 32px;\n",
              "      padding: 0 0 0 0;\n",
              "      width: 32px;\n",
              "    }\n",
              "\n",
              "    .colab-df-convert:hover {\n",
              "      background-color: #E2EBFA;\n",
              "      box-shadow: 0px 1px 2px rgba(60, 64, 67, 0.3), 0px 1px 3px 1px rgba(60, 64, 67, 0.15);\n",
              "      fill: #174EA6;\n",
              "    }\n",
              "\n",
              "    [theme=dark] .colab-df-convert {\n",
              "      background-color: #3B4455;\n",
              "      fill: #D2E3FC;\n",
              "    }\n",
              "\n",
              "    [theme=dark] .colab-df-convert:hover {\n",
              "      background-color: #434B5C;\n",
              "      box-shadow: 0px 1px 3px 1px rgba(0, 0, 0, 0.15);\n",
              "      filter: drop-shadow(0px 1px 2px rgba(0, 0, 0, 0.3));\n",
              "      fill: #FFFFFF;\n",
              "    }\n",
              "  </style>\n",
              "\n",
              "      <script>\n",
              "        const buttonEl =\n",
              "          document.querySelector('#df-aeef4b6e-af21-4fa2-b5f6-98d0e773ec18 button.colab-df-convert');\n",
              "        buttonEl.style.display =\n",
              "          google.colab.kernel.accessAllowed ? 'block' : 'none';\n",
              "\n",
              "        async function convertToInteractive(key) {\n",
              "          const element = document.querySelector('#df-aeef4b6e-af21-4fa2-b5f6-98d0e773ec18');\n",
              "          const dataTable =\n",
              "            await google.colab.kernel.invokeFunction('convertToInteractive',\n",
              "                                                     [key], {});\n",
              "          if (!dataTable) return;\n",
              "\n",
              "          const docLinkHtml = 'Like what you see? Visit the ' +\n",
              "            '<a target=\"_blank\" href=https://colab.research.google.com/notebooks/data_table.ipynb>data table notebook</a>'\n",
              "            + ' to learn more about interactive tables.';\n",
              "          element.innerHTML = '';\n",
              "          dataTable['output_type'] = 'display_data';\n",
              "          await google.colab.output.renderOutput(dataTable, element);\n",
              "          const docLink = document.createElement('div');\n",
              "          docLink.innerHTML = docLinkHtml;\n",
              "          element.appendChild(docLink);\n",
              "        }\n",
              "      </script>\n",
              "    </div>\n",
              "  </div>\n",
              "  "
            ]
          },
          "metadata": {},
          "execution_count": 13
        }
      ]
    },
    {
      "cell_type": "code",
      "source": [
        "import seaborn as sns\n",
        "numeric_variables = ['Tumor Size', 'Age', 'Regional Node Examined', 'Survival Months','Reginol Node Positive']\n",
        "sns.set_style('darkgrid')\n",
        "fig, axes = plt.subplots(nrows = 2, ncols = 3, figsize = (15, 10))\n",
        "fig.suptitle('Box plots', y= 0.93, fontsize = 15)\n",
        "\n",
        "for ax, data, name in zip(axes.flatten(), normalized_data, numeric_variables):\n",
        "  sns.boxplot(normalized_data[name], ax = ax)"
      ],
      "metadata": {
        "colab": {
          "base_uri": "https://localhost:8080/",
          "height": 835
        },
        "id": "Mwd3fjPnZBeY",
        "outputId": "b6f9332a-5d7d-40a0-f570-68fc240f7f88"
      },
      "execution_count": 15,
      "outputs": [
        {
          "output_type": "stream",
          "name": "stderr",
          "text": [
            "/usr/local/lib/python3.7/dist-packages/seaborn/_decorators.py:43: FutureWarning: Pass the following variable as a keyword arg: x. From version 0.12, the only valid positional argument will be `data`, and passing other arguments without an explicit keyword will result in an error or misinterpretation.\n",
            "  FutureWarning\n",
            "/usr/local/lib/python3.7/dist-packages/seaborn/_decorators.py:43: FutureWarning: Pass the following variable as a keyword arg: x. From version 0.12, the only valid positional argument will be `data`, and passing other arguments without an explicit keyword will result in an error or misinterpretation.\n",
            "  FutureWarning\n",
            "/usr/local/lib/python3.7/dist-packages/seaborn/_decorators.py:43: FutureWarning: Pass the following variable as a keyword arg: x. From version 0.12, the only valid positional argument will be `data`, and passing other arguments without an explicit keyword will result in an error or misinterpretation.\n",
            "  FutureWarning\n",
            "/usr/local/lib/python3.7/dist-packages/seaborn/_decorators.py:43: FutureWarning: Pass the following variable as a keyword arg: x. From version 0.12, the only valid positional argument will be `data`, and passing other arguments without an explicit keyword will result in an error or misinterpretation.\n",
            "  FutureWarning\n",
            "/usr/local/lib/python3.7/dist-packages/seaborn/_decorators.py:43: FutureWarning: Pass the following variable as a keyword arg: x. From version 0.12, the only valid positional argument will be `data`, and passing other arguments without an explicit keyword will result in an error or misinterpretation.\n",
            "  FutureWarning\n"
          ]
        },
        {
          "output_type": "display_data",
          "data": {
            "text/plain": [
              "<Figure size 1080x720 with 6 Axes>"
            ],
            "image/png": "[encoded data removed]"
          },
          "metadata": {}
        }
      ]
    },
    {
      "cell_type": "code",
      "source": [
        "numeric_variables = ['Tumor Size', 'Age', 'Regional Node Examined', 'Survival Months','Reginol Node Positive']\n",
        "sns.set_style('darkgrid')\n",
        "fig, axes = plt.subplots(nrows = 2, ncols = 3, figsize = (15, 10))\n",
        "fig.suptitle('Box plots', y= 0.93, fontsize = 15)\n",
        "\n",
        "for ax, data, name in zip(axes.flatten(), my_df_numeric, numeric_variables):\n",
        "  sns.histplot(normalized_data[name], ax = ax)"
      ],
      "metadata": {
        "colab": {
          "base_uri": "https://localhost:8080/",
          "height": 641
        },
        "id": "UU_mIVymLBEK",
        "outputId": "deab433a-e68b-4a35-a227-d432293ffa86"
      },
      "execution_count": 16,
      "outputs": [
        {
          "output_type": "display_data",
          "data": {
            "text/plain": [
              "<Figure size 1080x720 with 6 Axes>"
            ],
            "image/png": "[encoded data removed]"
          },
          "metadata": {}
        }
      ]
    },
    {
      "cell_type": "markdown",
      "source": [
        "\n",
        "\n",
        "# Feature engineering of categorical attributes\n",
        "\n"
      ],
      "metadata": {
        "id": "V00oya6rVTes"
      }
    },
    {
      "cell_type": "markdown",
      "metadata": {
        "id": "5M_a_UIWG_4F"
      },
      "source": [
        "**Label encoder**"
      ]
    },
    {
      "cell_type": "code",
      "execution_count": 17,
      "metadata": {
        "id": "WhkDNPq1v6WU"
      },
      "outputs": [],
      "source": [
        "from sklearn import preprocessing"
      ]
    },
    {
      "cell_type": "code",
      "execution_count": null,
      "metadata": {
        "id": "oTXHsJFI1-sY"
      },
      "outputs": [],
      "source": [
        "Columns = ['Race', 'Marital Status', 'T Stage ', 'N Stage', '6th Stage', 'differentiate', 'Grade', 'A Stage', 'Estrogen Status','Progesterone Status','Status']\n",
        "for l in Columns : \n",
        "  le = preprocessing.LabelEncoder()\n",
        "  le.fit(data[l].unique())\n",
        "\n",
        "  tab = le.transform(data[l])\n",
        "  for i in range(tab.shape[0]) : \n",
        "    data[l][i] = tab[i]"
      ]
    },
    {
      "cell_type": "code",
      "execution_count": 23,
      "metadata": {
        "id": "OzpF-sm5qLhW"
      },
      "outputs": [],
      "source": [
        "for l in Columns : \n",
        "  data[l] = data[l].astype(np.int64)"
      ]
    },
    {
      "cell_type": "code",
      "execution_count": null,
      "metadata": {
        "id": "yr2meg133xw1"
      },
      "outputs": [],
      "source": [
        "data.info()"
      ]
    },
    {
      "cell_type": "code",
      "source": [
        "for l in Columns : \n",
        "  normalized_data[l] = data[l]"
      ],
      "metadata": {
        "id": "Z_e2f3yVMUHQ"
      },
      "execution_count": 28,
      "outputs": []
    },
    {
      "cell_type": "code",
      "source": [
        "normalized_data"
      ],
      "metadata": {
        "colab": {
          "base_uri": "https://localhost:8080/",
          "height": 502
        },
        "id": "nn73veqDMocj",
        "outputId": "1f4829fa-5887-4ba6-b2f3-df3a8aa1e3d0"
      },
      "execution_count": 29,
      "outputs": [
        {
          "output_type": "execute_result",
          "data": {
            "text/plain": [
              "      Survival Months       Age  Reginol Node Positive  \\\n",
              "0            0.556604  0.974359               0.000000   \n",
              "1            0.575472  0.512821               0.420368   \n",
              "2            0.698113  0.717949               0.508251   \n",
              "3            0.783019  0.717949               0.000000   \n",
              "4            0.462264  0.435897               0.000000   \n",
              "...               ...       ...                    ...   \n",
              "4019         0.452830  0.820513               0.000000   \n",
              "4020         0.641509  0.666667               0.543128   \n",
              "4021         0.641509  0.974359               0.286946   \n",
              "4022         0.669811  0.717949               0.000000   \n",
              "4023         0.933962  0.410256               0.181043   \n",
              "\n",
              "      Regional Node Examined  Tumor Size  Race  Marital Status  T Stage   \\\n",
              "0                   0.773085    0.280533     2               1         0   \n",
              "1                   0.641970    0.719467     2               1         1   \n",
              "2                   0.641970    0.838412     2               0         2   \n",
              "3                   0.168613    0.584901     2               1         0   \n",
              "4                   0.267245    0.751485     2               1         1   \n",
              "...                      ...         ...   ...             ...       ...   \n",
              "4019                0.000000    0.444634     1               1         0   \n",
              "4020                0.641970    0.774771     2               0         1   \n",
              "4021                0.583305    0.625509     2               1         1   \n",
              "4022                0.583305    0.765776     0               0         1   \n",
              "4023                0.473357    0.688273     2               1         1   \n",
              "\n",
              "      N Stage  6th Stage  differentiate  Grade  A Stage  Estrogen Status  \\\n",
              "0           0          0              1      3        1                1   \n",
              "1           1          2              0      2        1                1   \n",
              "2           2          4              0      2        1                1   \n",
              "3           0          0              1      3        1                1   \n",
              "4           0          1              1      3        1                1   \n",
              "...       ...        ...            ...    ...      ...              ...   \n",
              "4019        0          0              0      2        1                1   \n",
              "4020        1          2              0      2        1                1   \n",
              "4021        0          1              0      2        1                1   \n",
              "4022        0          1              0      2        1                1   \n",
              "4023        0          1              0      2        1                1   \n",
              "\n",
              "      Progesterone Status  Status  \n",
              "0                       1       0  \n",
              "1                       1       0  \n",
              "2                       1       0  \n",
              "3                       1       0  \n",
              "4                       1       0  \n",
              "...                   ...     ...  \n",
              "4019                    1       0  \n",
              "4020                    1       0  \n",
              "4021                    0       0  \n",
              "4022                    1       0  \n",
              "4023                    1       0  \n",
              "\n",
              "[4024 rows x 16 columns]"
            ],
            "text/html": [
              "\n",
              "  <div id=\"df-94021104-638b-453a-a51c-cae371ac3fed\">\n",
              "    <div class=\"colab-df-container\">\n",
              "      <div>\n",
              "<style scoped>\n",
              "    .dataframe tbody tr th:only-of-type {\n",
              "        vertical-align: middle;\n",
              "    }\n",
              "\n",
              "    .dataframe tbody tr th {\n",
              "        vertical-align: top;\n",
              "    }\n",
              "\n",
              "    .dataframe thead th {\n",
              "        text-align: right;\n",
              "    }\n",
              "</style>\n",
              "<table border=\"1\" class=\"dataframe\">\n",
              "  <thead>\n",
              "    <tr style=\"text-align: right;\">\n",
              "      <th></th>\n",
              "      <th>Survival Months</th>\n",
              "      <th>Age</th>\n",
              "      <th>Reginol Node Positive</th>\n",
              "      <th>Regional Node Examined</th>\n",
              "      <th>Tumor Size</th>\n",
              "      <th>Race</th>\n",
              "      <th>Marital Status</th>\n",
              "      <th>T Stage</th>\n",
              "      <th>N Stage</th>\n",
              "      <th>6th Stage</th>\n",
              "      <th>differentiate</th>\n",
              "      <th>Grade</th>\n",
              "      <th>A Stage</th>\n",
              "      <th>Estrogen Status</th>\n",
              "      <th>Progesterone Status</th>\n",
              "      <th>Status</th>\n",
              "    </tr>\n",
              "  </thead>\n",
              "  <tbody>\n",
              "    <tr>\n",
              "      <th>0</th>\n",
              "      <td>0.556604</td>\n",
              "      <td>0.974359</td>\n",
              "      <td>0.000000</td>\n",
              "      <td>0.773085</td>\n",
              "      <td>0.280533</td>\n",
              "      <td>2</td>\n",
              "      <td>1</td>\n",
              "      <td>0</td>\n",
              "      <td>0</td>\n",
              "      <td>0</td>\n",
              "      <td>1</td>\n",
              "      <td>3</td>\n",
              "      <td>1</td>\n",
              "      <td>1</td>\n",
              "      <td>1</td>\n",
              "      <td>0</td>\n",
              "    </tr>\n",
              "    <tr>\n",
              "      <th>1</th>\n",
              "      <td>0.575472</td>\n",
              "      <td>0.512821</td>\n",
              "      <td>0.420368</td>\n",
              "      <td>0.641970</td>\n",
              "      <td>0.719467</td>\n",
              "      <td>2</td>\n",
              "      <td>1</td>\n",
              "      <td>1</td>\n",
              "      <td>1</td>\n",
              "      <td>2</td>\n",
              "      <td>0</td>\n",
              "      <td>2</td>\n",
              "      <td>1</td>\n",
              "      <td>1</td>\n",
              "      <td>1</td>\n",
              "      <td>0</td>\n",
              "    </tr>\n",
              "    <tr>\n",
              "      <th>2</th>\n",
              "      <td>0.698113</td>\n",
              "      <td>0.717949</td>\n",
              "      <td>0.508251</td>\n",
              "      <td>0.641970</td>\n",
              "      <td>0.838412</td>\n",
              "      <td>2</td>\n",
              "      <td>0</td>\n",
              "      <td>2</td>\n",
              "      <td>2</td>\n",
              "      <td>4</td>\n",
              "      <td>0</td>\n",
              "      <td>2</td>\n",
              "      <td>1</td>\n",
              "      <td>1</td>\n",
              "      <td>1</td>\n",
              "      <td>0</td>\n",
              "    </tr>\n",
              "    <tr>\n",
              "      <th>3</th>\n",
              "      <td>0.783019</td>\n",
              "      <td>0.717949</td>\n",
              "      <td>0.000000</td>\n",
              "      <td>0.168613</td>\n",
              "      <td>0.584901</td>\n",
              "      <td>2</td>\n",
              "      <td>1</td>\n",
              "      <td>0</td>\n",
              "      <td>0</td>\n",
              "      <td>0</td>\n",
              "      <td>1</td>\n",
              "      <td>3</td>\n",
              "      <td>1</td>\n",
              "      <td>1</td>\n",
              "      <td>1</td>\n",
              "      <td>0</td>\n",
              "    </tr>\n",
              "    <tr>\n",
              "      <th>4</th>\n",
              "      <td>0.462264</td>\n",
              "      <td>0.435897</td>\n",
              "      <td>0.000000</td>\n",
              "      <td>0.267245</td>\n",
              "      <td>0.751485</td>\n",
              "      <td>2</td>\n",
              "      <td>1</td>\n",
              "      <td>1</td>\n",
              "      <td>0</td>\n",
              "      <td>1</td>\n",
              "      <td>1</td>\n",
              "      <td>3</td>\n",
              "      <td>1</td>\n",
              "      <td>1</td>\n",
              "      <td>1</td>\n",
              "      <td>0</td>\n",
              "    </tr>\n",
              "    <tr>\n",
              "      <th>...</th>\n",
              "      <td>...</td>\n",
              "      <td>...</td>\n",
              "      <td>...</td>\n",
              "      <td>...</td>\n",
              "      <td>...</td>\n",
              "      <td>...</td>\n",
              "      <td>...</td>\n",
              "      <td>...</td>\n",
              "      <td>...</td>\n",
              "      <td>...</td>\n",
              "      <td>...</td>\n",
              "      <td>...</td>\n",
              "      <td>...</td>\n",
              "      <td>...</td>\n",
              "      <td>...</td>\n",
              "      <td>...</td>\n",
              "    </tr>\n",
              "    <tr>\n",
              "      <th>4019</th>\n",
              "      <td>0.452830</td>\n",
              "      <td>0.820513</td>\n",
              "      <td>0.000000</td>\n",
              "      <td>0.000000</td>\n",
              "      <td>0.444634</td>\n",
              "      <td>1</td>\n",
              "      <td>1</td>\n",
              "      <td>0</td>\n",
              "      <td>0</td>\n",
              "      <td>0</td>\n",
              "      <td>0</td>\n",
              "      <td>2</td>\n",
              "      <td>1</td>\n",
              "      <td>1</td>\n",
              "      <td>1</td>\n",
              "      <td>0</td>\n",
              "    </tr>\n",
              "    <tr>\n",
              "      <th>4020</th>\n",
              "      <td>0.641509</td>\n",
              "      <td>0.666667</td>\n",
              "      <td>0.543128</td>\n",
              "      <td>0.641970</td>\n",
              "      <td>0.774771</td>\n",
              "      <td>2</td>\n",
              "      <td>0</td>\n",
              "      <td>1</td>\n",
              "      <td>1</td>\n",
              "      <td>2</td>\n",
              "      <td>0</td>\n",
              "      <td>2</td>\n",
              "      <td>1</td>\n",
              "      <td>1</td>\n",
              "      <td>1</td>\n",
              "      <td>0</td>\n",
              "    </tr>\n",
              "    <tr>\n",
              "      <th>4021</th>\n",
              "      <td>0.641509</td>\n",
              "      <td>0.974359</td>\n",
              "      <td>0.286946</td>\n",
              "      <td>0.583305</td>\n",
              "      <td>0.625509</td>\n",
              "      <td>2</td>\n",
              "      <td>1</td>\n",
              "      <td>1</td>\n",
              "      <td>0</td>\n",
              "      <td>1</td>\n",
              "      <td>0</td>\n",
              "      <td>2</td>\n",
              "      <td>1</td>\n",
              "      <td>1</td>\n",
              "      <td>0</td>\n",
              "      <td>0</td>\n",
              "    </tr>\n",
              "    <tr>\n",
              "      <th>4022</th>\n",
              "      <td>0.669811</td>\n",
              "      <td>0.717949</td>\n",
              "      <td>0.000000</td>\n",
              "      <td>0.583305</td>\n",
              "      <td>0.765776</td>\n",
              "      <td>0</td>\n",
              "      <td>0</td>\n",
              "      <td>1</td>\n",
              "      <td>0</td>\n",
              "      <td>1</td>\n",
              "      <td>0</td>\n",
              "      <td>2</td>\n",
              "      <td>1</td>\n",
              "      <td>1</td>\n",
              "      <td>1</td>\n",
              "      <td>0</td>\n",
              "    </tr>\n",
              "    <tr>\n",
              "      <th>4023</th>\n",
              "      <td>0.933962</td>\n",
              "      <td>0.410256</td>\n",
              "      <td>0.181043</td>\n",
              "      <td>0.473357</td>\n",
              "      <td>0.688273</td>\n",
              "      <td>2</td>\n",
              "      <td>1</td>\n",
              "      <td>1</td>\n",
              "      <td>0</td>\n",
              "      <td>1</td>\n",
              "      <td>0</td>\n",
              "      <td>2</td>\n",
              "      <td>1</td>\n",
              "      <td>1</td>\n",
              "      <td>1</td>\n",
              "      <td>0</td>\n",
              "    </tr>\n",
              "  </tbody>\n",
              "</table>\n",
              "<p>4024 rows × 16 columns</p>\n",
              "</div>\n",
              "      <button class=\"colab-df-convert\" onclick=\"convertToInteractive('df-94021104-638b-453a-a51c-cae371ac3fed')\"\n",
              "              title=\"Convert this dataframe to an interactive table.\"\n",
              "              style=\"display:none;\">\n",
              "        \n",
              "  <svg xmlns=\"http://www.w3.org/2000/svg\" height=\"24px\"viewBox=\"0 0 24 24\"\n",
              "       width=\"24px\">\n",
              "    <path d=\"M0 0h24v24H0V0z\" fill=\"none\"/>\n",
              "    <path d=\"M18.56 5.44l.94 2.06.94-2.06 2.06-.94-2.06-.94-.94-2.06-.94 2.06-2.06.94zm-11 1L8.5 8.5l.94-2.06 2.06-.94-2.06-.94L8.5 2.5l-.94 2.06-2.06.94zm10 10l.94 2.06.94-2.06 2.06-.94-2.06-.94-.94-2.06-.94 2.06-2.06.94z\"/><path d=\"M17.41 7.96l-1.37-1.37c-.4-.4-.92-.59-1.43-.59-.52 0-1.04.2-1.43.59L10.3 9.45l-7.72 7.72c-.78.78-.78 2.05 0 2.83L4 21.41c.39.39.9.59 1.41.59.51 0 1.02-.2 1.41-.59l7.78-7.78 2.81-2.81c.8-.78.8-2.07 0-2.86zM5.41 20L4 18.59l7.72-7.72 1.47 1.35L5.41 20z\"/>\n",
              "  </svg>\n",
              "      </button>\n",
              "      \n",
              "  <style>\n",
              "    .colab-df-container {\n",
              "      display:flex;\n",
              "      flex-wrap:wrap;\n",
              "      gap: 12px;\n",
              "    }\n",
              "\n",
              "    .colab-df-convert {\n",
              "      background-color: #E8F0FE;\n",
              "      border: none;\n",
              "      border-radius: 50%;\n",
              "      cursor: pointer;\n",
              "      display: none;\n",
              "      fill: #1967D2;\n",
              "      height: 32px;\n",
              "      padding: 0 0 0 0;\n",
              "      width: 32px;\n",
              "    }\n",
              "\n",
              "    .colab-df-convert:hover {\n",
              "      background-color: #E2EBFA;\n",
              "      box-shadow: 0px 1px 2px rgba(60, 64, 67, 0.3), 0px 1px 3px 1px rgba(60, 64, 67, 0.15);\n",
              "      fill: #174EA6;\n",
              "    }\n",
              "\n",
              "    [theme=dark] .colab-df-convert {\n",
              "      background-color: #3B4455;\n",
              "      fill: #D2E3FC;\n",
              "    }\n",
              "\n",
              "    [theme=dark] .colab-df-convert:hover {\n",
              "      background-color: #434B5C;\n",
              "      box-shadow: 0px 1px 3px 1px rgba(0, 0, 0, 0.15);\n",
              "      filter: drop-shadow(0px 1px 2px rgba(0, 0, 0, 0.3));\n",
              "      fill: #FFFFFF;\n",
              "    }\n",
              "  </style>\n",
              "\n",
              "      <script>\n",
              "        const buttonEl =\n",
              "          document.querySelector('#df-94021104-638b-453a-a51c-cae371ac3fed button.colab-df-convert');\n",
              "        buttonEl.style.display =\n",
              "          google.colab.kernel.accessAllowed ? 'block' : 'none';\n",
              "\n",
              "        async function convertToInteractive(key) {\n",
              "          const element = document.querySelector('#df-94021104-638b-453a-a51c-cae371ac3fed');\n",
              "          const dataTable =\n",
              "            await google.colab.kernel.invokeFunction('convertToInteractive',\n",
              "                                                     [key], {});\n",
              "          if (!dataTable) return;\n",
              "\n",
              "          const docLinkHtml = 'Like what you see? Visit the ' +\n",
              "            '<a target=\"_blank\" href=https://colab.research.google.com/notebooks/data_table.ipynb>data table notebook</a>'\n",
              "            + ' to learn more about interactive tables.';\n",
              "          element.innerHTML = '';\n",
              "          dataTable['output_type'] = 'display_data';\n",
              "          await google.colab.output.renderOutput(dataTable, element);\n",
              "          const docLink = document.createElement('div');\n",
              "          docLink.innerHTML = docLinkHtml;\n",
              "          element.appendChild(docLink);\n",
              "        }\n",
              "      </script>\n",
              "    </div>\n",
              "  </div>\n",
              "  "
            ]
          },
          "metadata": {},
          "execution_count": 29
        }
      ]
    },
    {
      "cell_type": "code",
      "execution_count": null,
      "metadata": {
        "colab": {
          "base_uri": "https://localhost:8080/"
        },
        "id": "Ge4AZs72YUVC",
        "outputId": "554724a5-0f5c-4982-df51-b561113fc1db"
      },
      "outputs": [
        {
          "data": {
            "text/plain": [
              "0    3408\n",
              "1     616\n",
              "Name: Status, dtype: int64"
            ]
          },
          "execution_count": 34,
          "metadata": {},
          "output_type": "execute_result"
        }
      ],
      "source": [
        "data['Status'].value_counts()"
      ]
    },
    {
      "cell_type": "code",
      "execution_count": null,
      "metadata": {
        "colab": {
          "base_uri": "https://localhost:8080/"
        },
        "id": "tx-sE6aHP_20",
        "outputId": "6bab5335-e372-4eec-a2d1-27e702ad4464"
      },
      "outputs": [
        {
          "data": {
            "text/plain": [
              "2    3413\n",
              "1     320\n",
              "0     291\n",
              "Name: Race, dtype: int64"
            ]
          },
          "execution_count": 16,
          "metadata": {},
          "output_type": "execute_result"
        }
      ],
      "source": [
        "data['Race'].value_counts()"
      ]
    },
    {
      "cell_type": "code",
      "execution_count": null,
      "metadata": {
        "colab": {
          "base_uri": "https://localhost:8080/",
          "height": 386
        },
        "id": "G2vjArgXYcJx",
        "outputId": "26076baf-8086-4d93-fde3-9f03d50012eb"
      },
      "outputs": [
        {
          "data": {
            "text/plain": [
              "<seaborn.axisgrid.FacetGrid at 0x7f12fb53db10>"
            ]
          },
          "execution_count": 7,
          "metadata": {},
          "output_type": "execute_result"
        },
        {
          "data": {
            "image/png": "[encoded data removed]",
            "text/plain": [
              "<Figure size 360x360 with 1 Axes>"
            ]
          },
          "metadata": {},
          "output_type": "display_data"
        }
      ],
      "source": [
        "sns.catplot(data=data, x=\"Status\", kind=\"count\")\n"
      ]
    },
    {
      "cell_type": "code",
      "execution_count": null,
      "metadata": {
        "colab": {
          "base_uri": "https://localhost:8080/",
          "height": 382
        },
        "id": "jin4Hy-FxcAK",
        "outputId": "a8cbe78e-d9b7-482f-f773-a1cf185960c3"
      },
      "outputs": [
        {
          "data": {
            "text/plain": [
              "<matplotlib.axes._subplots.AxesSubplot at 0x7f12fb463790>"
            ]
          },
          "execution_count": 8,
          "metadata": {},
          "output_type": "execute_result"
        },
        {
          "data": {
            "image/png": "[encoded data removed]",
            "text/plain": [
              "<Figure size 1152x432 with 2 Axes>"
            ]
          },
          "metadata": {},
          "output_type": "display_data"
        }
      ],
      "source": [
        "plt.figure(figsize=(16, 6))\n",
        "sns.heatmap(data.corr(), annot=True)"
      ]
    },
    {
      "cell_type": "code",
      "execution_count": null,
      "metadata": {
        "id": "7h3qZausysfO"
      },
      "outputs": [],
      "source": []
    },
    {
      "cell_type": "markdown",
      "metadata": {
        "id": "97JfF13oXNvH"
      },
      "source": [
        "**Training**"
      ]
    },
    {
      "cell_type": "code",
      "execution_count": 30,
      "metadata": {
        "id": "NTAa44oOxao6"
      },
      "outputs": [],
      "source": [
        "y= normalized_data['Status']"
      ]
    },
    {
      "cell_type": "code",
      "execution_count": 31,
      "metadata": {
        "id": "JZOlxlOCgF2R"
      },
      "outputs": [],
      "source": [
        "X = normalized_data[['Age', 'Race', 'Marital Status', 'T Stage ', 'N Stage', '6th Stage',\n",
        "       'differentiate', 'Grade', 'A Stage', 'Tumor Size', 'Estrogen Status',\n",
        "       'Progesterone Status', 'Regional Node Examined',\n",
        "       'Reginol Node Positive', 'Survival Months']]"
      ]
    },
    {
      "cell_type": "code",
      "execution_count": 32,
      "metadata": {
        "id": "Jc8ld35tXR2e"
      },
      "outputs": [],
      "source": [
        "from sklearn.model_selection import train_test_split \n",
        "X_train, X_test, y_train, y_test = train_test_split(X, y, test_size=0.2)"
      ]
    },
    {
      "cell_type": "code",
      "execution_count": null,
      "metadata": {
        "id": "7HsoRX7nephd"
      },
      "outputs": [],
      "source": [
        "X"
      ]
    },
    {
      "cell_type": "markdown",
      "metadata": {
        "id": "Nl1k-HdBYA8c"
      },
      "source": [
        "**Classification models**"
      ]
    },
    {
      "cell_type": "markdown",
      "metadata": {
        "id": "0211_V5LcTCQ"
      },
      "source": [
        "**1) Logistic_regression **"
      ]
    },
    {
      "cell_type": "code",
      "execution_count": 33,
      "metadata": {
        "id": "B5-SrKxBX_76"
      },
      "outputs": [],
      "source": [
        "from sklearn.linear_model import LogisticRegression\n",
        "clf = LogisticRegression(random_state=0).fit(X_train, y_train)"
      ]
    },
    {
      "cell_type": "code",
      "execution_count": 34,
      "metadata": {
        "colab": {
          "base_uri": "https://localhost:8080/"
        },
        "id": "xkohGsBobqep",
        "outputId": "03d31199-fdca-4937-dfdc-5d5d56f2022e"
      },
      "outputs": [
        {
          "output_type": "execute_result",
          "data": {
            "text/plain": [
              "0.8919254658385093"
            ]
          },
          "metadata": {},
          "execution_count": 34
        }
      ],
      "source": [
        "clf.predict(X_test)\n",
        "clf.score(X_test, y_test)"
      ]
    },
    {
      "cell_type": "markdown",
      "metadata": {
        "id": "M4YF2Jk-fKcH"
      },
      "source": [
        "*2) Cross_validation*"
      ]
    },
    {
      "cell_type": "code",
      "execution_count": 35,
      "metadata": {
        "colab": {
          "base_uri": "https://localhost:8080/"
        },
        "id": "8stqADgpfTfb",
        "outputId": "4f7d3c71-8323-422c-c6d3-3c28bfe767ac"
      },
      "outputs": [
        {
          "output_type": "execute_result",
          "data": {
            "text/plain": [
              "0.8938855412379099"
            ]
          },
          "metadata": {},
          "execution_count": 35
        }
      ],
      "source": [
        "from sklearn.model_selection import cross_val_score\n",
        "\n",
        "cross_val_score(LogisticRegression(solver = \"sag\", max_iter=500), X, y, cv=5, scoring=\"accuracy\").mean()"
      ]
    },
    {
      "cell_type": "code",
      "execution_count": 36,
      "metadata": {
        "colab": {
          "base_uri": "https://localhost:8080/"
        },
        "id": "iu3UHebMkzh3",
        "outputId": "d86902f0-edb1-4aca-c95e-3dcd49d91507"
      },
      "outputs": [
        {
          "output_type": "stream",
          "name": "stdout",
          "text": [
            "Logistic regression :  0.8938855412379099\n",
            "KNeighborsClassifier :  0.8581008003460957\n"
          ]
        }
      ],
      "source": [
        "from sklearn.model_selection import cross_val_score\n",
        "from sklearn.neighbors import KNeighborsClassifier\n",
        "lm = cross_val_score(LogisticRegression(solver = \"sag\", max_iter=500), X, y, cv=5, scoring=\"accuracy\").mean()\n",
        "lk = cross_val_score(KNeighborsClassifier(15), X, y, cv=5, scoring=\"accuracy\").mean()\n",
        "print(\"Logistic regression : \", lm )\n",
        "print(\"KNeighborsClassifier : \", lk )"
      ]
    },
    {
      "cell_type": "markdown",
      "metadata": {
        "id": "n08AtjIBMmKZ"
      },
      "source": [
        "*2.1) Shuffle split *"
      ]
    },
    {
      "cell_type": "code",
      "execution_count": 37,
      "metadata": {
        "colab": {
          "base_uri": "https://localhost:8080/"
        },
        "id": "G0X-uPMYMtEx",
        "outputId": "ac8019f9-eff2-4c67-b947-fcc1c1d2a242"
      },
      "outputs": [
        {
          "output_type": "execute_result",
          "data": {
            "text/plain": [
              "0.8531055900621118"
            ]
          },
          "metadata": {},
          "execution_count": 37
        }
      ],
      "source": [
        "from sklearn.model_selection import ShuffleSplit\n",
        "\n",
        "cv = ShuffleSplit(4, test_size=0.2)\n",
        "\n",
        "cross_val_score(KNeighborsClassifier(), X, y, cv=cv).mean()"
      ]
    },
    {
      "cell_type": "code",
      "execution_count": 38,
      "metadata": {
        "id": "CZWPYumyOOYl"
      },
      "outputs": [],
      "source": [
        "def Shuffle_Split (n, size, model, X, y) :\n",
        "\n",
        "  cv = ShuffleSplit(n, test_size= size)\n",
        "  l = cross_val_score(model, X, y, cv=cv)\n",
        "  print(\"l : \",l)\n",
        "  return l.mean()"
      ]
    },
    {
      "cell_type": "markdown",
      "metadata": {
        "id": "hMOlwHkJM84x"
      },
      "source": [
        "*2.2) Group Kfold*"
      ]
    },
    {
      "cell_type": "code",
      "execution_count": null,
      "metadata": {
        "id": "yRCS3ewNRcuQ"
      },
      "outputs": [],
      "source": [
        "gkf = GroupKFold(3)\n",
        "for train, test in gkf.split(X, y, groups=list(X['Race'])):\n",
        "  print(\"%s %s\" % (train, test))"
      ]
    },
    {
      "cell_type": "code",
      "execution_count": 40,
      "metadata": {
        "colab": {
          "base_uri": "https://localhost:8080/"
        },
        "id": "GhpFnplhNIWA",
        "outputId": "be6e75c3-ddd7-4271-e117-6eab82901a4c"
      },
      "outputs": [
        {
          "output_type": "execute_result",
          "data": {
            "text/plain": [
              "0.8506189503182561"
            ]
          },
          "metadata": {},
          "execution_count": 40
        }
      ],
      "source": [
        "from sklearn.model_selection import GroupKFold\n",
        "\n",
        "cv = GroupKFold(3).split(X_train, y_train, groups=X_train['Race'])\n",
        "cross_val_score(KNeighborsClassifier(), X_train, y_train, cv=cv).mean()"
      ]
    },
    {
      "cell_type": "markdown",
      "metadata": {
        "id": "rG5XdiZmaQH6"
      },
      "source": [
        "Validation_curve pour trouver la meilleure valeur pour un hyperparamètre donnée"
      ]
    },
    {
      "cell_type": "code",
      "execution_count": null,
      "metadata": {
        "colab": {
          "base_uri": "https://localhost:8080/",
          "height": 282
        },
        "id": "GWjHLBse9-D-",
        "outputId": "4f818064-797f-48a2-839c-8ffd86af09e0"
      },
      "outputs": [
        {
          "data": {
            "text/plain": [
              "[<matplotlib.lines.Line2D at 0x7fc698324290>]"
            ]
          },
          "execution_count": 75,
          "metadata": {},
          "output_type": "execute_result"
        },
        {
          "data": {
            "image/png": "[encoded data removed]",
            "text/plain": [
              "<Figure size 432x288 with 1 Axes>"
            ]
          },
          "metadata": {},
          "output_type": "display_data"
        }
      ],
      "source": [
        "from sklearn.model_selection import validation_curve\n",
        "\n",
        "def Best_hyperparameters(model, X, y,hyperparameter,k, cv) : \n",
        "  train_score, val_score = validation_curve(model, X, y, param_name = hyperparameter, param_range= k, cv=cv)\n",
        "  return val_score\n",
        "k = np.arange(1, 50)\n",
        "model = KNeighborsClassifier()\n",
        "vf = Best_hyperparameters(model, X, y,'n_neighbors',k, 5)\n",
        "plt.plot(k, vf.mean(axis=1))"
      ]
    },
    {
      "cell_type": "code",
      "execution_count": null,
      "metadata": {
        "colab": {
          "base_uri": "https://localhost:8080/"
        },
        "id": "gQuH8paGItGX",
        "outputId": "f4566004-7d88-455c-808e-db6e07247351"
      },
      "outputs": [
        {
          "name": "stdout",
          "output_type": "stream",
          "text": [
            "la plus grande performance du modèle est  0.8966193875343779  index =  18\n"
          ]
        }
      ],
      "source": [
        "max = vf.mean(axis=1).max()\n",
        "index = list(vf.mean(axis=1)).index(max)\n",
        "print(\"la plus grande performance du modèle est \",max,\" index = \",index)"
      ]
    },
    {
      "cell_type": "markdown",
      "metadata": {
        "id": "MHMoPM17Z1ZX"
      },
      "source": [
        "GridSearchCV"
      ]
    },
    {
      "cell_type": "code",
      "execution_count": 41,
      "metadata": {
        "id": "L7-xLKFoZzmf"
      },
      "outputs": [],
      "source": [
        "from sklearn.model_selection import GridSearchCV\n",
        "from sklearn.neighbors import KNeighborsClassifier\n",
        "\n",
        "def GridSearchCV_KNN(X_train, y_train) : \n",
        "  param_grid = {\"n_neighbors\": np.arange(1,20),\n",
        "                \"metric\": ['euclidean', 'cosine', 'manhattan' ]}\n",
        "  model = KNeighborsClassifier()\n",
        "  grid = GridSearchCV(model, param_grid, cv=5)\n",
        "  grid.fit(X_train, y_train)\n",
        "  return grid"
      ]
    },
    {
      "cell_type": "code",
      "execution_count": 42,
      "metadata": {
        "id": "PtyIlShYmYHt"
      },
      "outputs": [],
      "source": [
        "grid = GridSearchCV_KNN(X, y)"
      ]
    },
    {
      "cell_type": "code",
      "execution_count": 43,
      "metadata": {
        "colab": {
          "base_uri": "https://localhost:8080/"
        },
        "id": "1Cabfj6ncPc0",
        "outputId": "9650be39-a661-4414-ac29-282d560bf0ad"
      },
      "outputs": [
        {
          "output_type": "execute_result",
          "data": {
            "text/plain": [
              "0.8603380612465621"
            ]
          },
          "metadata": {},
          "execution_count": 43
        }
      ],
      "source": [
        "grid.best_score_"
      ]
    },
    {
      "cell_type": "code",
      "execution_count": null,
      "metadata": {
        "colab": {
          "base_uri": "https://localhost:8080/"
        },
        "id": "k0ToYM2mcYzf",
        "outputId": "16fb0d4b-93b5-44d1-8df7-14a906bb0f7f"
      },
      "outputs": [
        {
          "data": {
            "text/plain": [
              "{'metric': 'manhattan', 'n_neighbors': 19}"
            ]
          },
          "execution_count": 79,
          "metadata": {},
          "output_type": "execute_result"
        }
      ],
      "source": [
        "grid.best_params_"
      ]
    },
    {
      "cell_type": "code",
      "execution_count": null,
      "metadata": {
        "id": "5dsVTsz7kTG8"
      },
      "outputs": [],
      "source": [
        "model = grid.best_estimator_ "
      ]
    },
    {
      "cell_type": "code",
      "execution_count": null,
      "metadata": {
        "colab": {
          "base_uri": "https://localhost:8080/"
        },
        "id": "oy2fAOz5ku8S",
        "outputId": "776d53f8-13f3-4146-dd43-ec16bb788927"
      },
      "outputs": [
        {
          "data": {
            "text/plain": [
              "0.9043478260869565"
            ]
          },
          "execution_count": 35,
          "metadata": {},
          "output_type": "execute_result"
        }
      ],
      "source": [
        "model.score(X_test, y_test)"
      ]
    },
    {
      "cell_type": "code",
      "execution_count": null,
      "metadata": {
        "colab": {
          "base_uri": "https://localhost:8080/"
        },
        "id": "o6aI9ERZlDWx",
        "outputId": "f155070b-e819-4288-bc39-a7a082dc4945"
      },
      "outputs": [
        {
          "data": {
            "text/plain": [
              "array([[655,  13],\n",
              "       [ 73,  64]])"
            ]
          },
          "execution_count": 81,
          "metadata": {},
          "output_type": "execute_result"
        }
      ],
      "source": [
        "from sklearn.metrics import confusion_matrix\n",
        "confusion_matrix (y_test, model.predict(X_test))"
      ]
    },
    {
      "cell_type": "code",
      "execution_count": null,
      "metadata": {
        "id": "n7UsTpVQggHJ"
      },
      "outputs": [],
      "source": [
        "param_grid = {\"penalty\": ['l1', 'l2', 'elasticnet'],\n",
        "              \"solver\": ['newton-cg', 'lbfgs', 'liblinear', 'sag', 'saga' ]}\n",
        "\n",
        "model = LogisticRegression(max_iter=500)\n",
        "grid = GridSearchCV(model, param_grid, cv=5)\n",
        "grid.fit(X_train, y_train)"
      ]
    },
    {
      "cell_type": "code",
      "execution_count": null,
      "metadata": {
        "colab": {
          "base_uri": "https://localhost:8080/"
        },
        "id": "9LriaLg2iNKq",
        "outputId": "f919f2ac-dbc6-410c-ffec-1f378101d1b4"
      },
      "outputs": [
        {
          "data": {
            "text/plain": [
              "{'penalty': 'l2', 'solver': 'liblinear'}"
            ]
          },
          "execution_count": 61,
          "metadata": {},
          "output_type": "execute_result"
        }
      ],
      "source": [
        "grid.best_params_"
      ]
    },
    {
      "cell_type": "code",
      "execution_count": null,
      "metadata": {
        "colab": {
          "base_uri": "https://localhost:8080/"
        },
        "id": "5F_Wdm4rjqPi",
        "outputId": "0ce41697-a416-4759-d51d-ad1730fe9bf4"
      },
      "outputs": [
        {
          "data": {
            "text/plain": [
              "0.8977942099823227"
            ]
          },
          "execution_count": 62,
          "metadata": {},
          "output_type": "execute_result"
        }
      ],
      "source": [
        "grid.best_score_"
      ]
    },
    {
      "cell_type": "code",
      "execution_count": null,
      "metadata": {
        "id": "zQi1PupGicjT"
      },
      "outputs": [],
      "source": [
        "lm = cross_val_score(KNeighborsClassifier(15), X_train, y_train, cv=5, scoring=\"accuracy\").mean()\n"
      ]
    },
    {
      "cell_type": "markdown",
      "metadata": {
        "id": "gUu5P7FxiW59"
      },
      "source": [
        "2) SMOTE"
      ]
    },
    {
      "cell_type": "code",
      "execution_count": null,
      "metadata": {
        "colab": {
          "base_uri": "https://localhost:8080/"
        },
        "id": "z1qage90iWXl",
        "outputId": "899cdb54-3593-41b1-f754-370c8f44cdf7"
      },
      "outputs": [
        {
          "output_type": "stream",
          "name": "stdout",
          "text": [
            "Original dataset shape Counter({0: 3408, 1: 616})\n",
            "Resampled dataset shape Counter({0: 3408, 1: 3408})\n"
          ]
        }
      ],
      "source": [
        "from imblearn.over_sampling import SMOTE \n",
        "from collections import Counter\n",
        "\n",
        "sm = SMOTE(k_neighbors=5)\n",
        "print('Original dataset shape %s' % Counter(y))\n",
        "X_res, y_res = sm.fit_resample(X, y)\n",
        "print('Resampled dataset shape %s' % Counter(y_res))"
      ]
    },
    {
      "cell_type": "code",
      "execution_count": null,
      "metadata": {
        "id": "HBlXo25XjM_3"
      },
      "outputs": [],
      "source": [
        "from sklearn.model_selection import train_test_split \n",
        "X_train_eq, X_test_eq, y_train_eq, y_test_eq = train_test_split(X_res, y_res, test_size=0.2)"
      ]
    },
    {
      "cell_type": "code",
      "execution_count": null,
      "metadata": {
        "colab": {
          "base_uri": "https://localhost:8080/"
        },
        "id": "yMUAh3onlQZv",
        "outputId": "e8f5c07f-cb36-4f6f-eb2b-f8c6fc1f7020"
      },
      "outputs": [
        {
          "name": "stdout",
          "output_type": "stream",
          "text": [
            "19\n",
            "0.8966193875343779\n"
          ]
        }
      ],
      "source": [
        "grid = GridSearchCV_KNN(X, y)\n",
        "n = grid.best_params_['n_neighbors']\n",
        "print(n)\n",
        "lk = cross_val_score(KNeighborsClassifier(n), X, y, cv=5, scoring=\"accuracy\")\n",
        "grid.best_score_\n",
        "print(lk.mean())\n"
      ]
    },
    {
      "cell_type": "code",
      "execution_count": null,
      "metadata": {
        "colab": {
          "base_uri": "https://localhost:8080/"
        },
        "id": "kAbEFVavnVZb",
        "outputId": "adac0cf5-1b0c-4ed9-8155-969e82feda96"
      },
      "outputs": [
        {
          "data": {
            "text/plain": [
              "0.8968672167114736"
            ]
          },
          "execution_count": 84,
          "metadata": {},
          "output_type": "execute_result"
        }
      ],
      "source": [
        "grid.best_score_\n"
      ]
    },
    {
      "cell_type": "code",
      "execution_count": null,
      "metadata": {
        "id": "f8e5pX7toBrX"
      },
      "outputs": [],
      "source": [
        "model = grid.best_estimator_ \n"
      ]
    },
    {
      "cell_type": "code",
      "execution_count": null,
      "metadata": {
        "colab": {
          "base_uri": "https://localhost:8080/"
        },
        "id": "MHjUUrOhPLcU",
        "outputId": "21a06a2c-bfbe-4acf-8095-ff8bb02afb6a"
      },
      "outputs": [
        {
          "data": {
            "text/plain": [
              "array([[646,  22],\n",
              "       [ 77,  60]])"
            ]
          },
          "execution_count": 51,
          "metadata": {},
          "output_type": "execute_result"
        }
      ],
      "source": [
        "from sklearn.metrics import confusion_matrix\n",
        "confusion_matrix (y_test, model.predict(X_test))"
      ]
    },
    {
      "cell_type": "code",
      "execution_count": null,
      "metadata": {
        "colab": {
          "base_uri": "https://localhost:8080/"
        },
        "id": "3qGzzetaOHlW",
        "outputId": "f4cf460e-2fe8-4014-a78e-885f0c2eeee6"
      },
      "outputs": [
        {
          "data": {
            "text/plain": [
              "0.8978260869565218"
            ]
          },
          "execution_count": 86,
          "metadata": {},
          "output_type": "execute_result"
        }
      ],
      "source": [
        "Shuffle_Split(4,0.2 ,KNeighborsClassifier(15), X, y)"
      ]
    },
    {
      "cell_type": "code",
      "execution_count": null,
      "metadata": {
        "id": "TKYJMUUIQIG1"
      },
      "outputs": [],
      "source": [
        "cv = ShuffleSplit(4, test_size= 0.2)\n",
        "l = cross_val_score(KNeighborsClassifier(15), X, y, cv=cv)"
      ]
    },
    {
      "cell_type": "code",
      "execution_count": null,
      "metadata": {
        "colab": {
          "base_uri": "https://localhost:8080/"
        },
        "id": "xL51fVanS5A8",
        "outputId": "3df9cd9f-04cf-4a41-836c-ab126510ee88"
      },
      "outputs": [
        {
          "data": {
            "text/plain": [
              "0.8916149068322982"
            ]
          },
          "execution_count": 89,
          "metadata": {},
          "output_type": "execute_result"
        }
      ],
      "source": [
        "l.mean()"
      ]
    },
    {
      "cell_type": "code",
      "execution_count": null,
      "metadata": {
        "id": "tELqKDkpS60H"
      },
      "outputs": [],
      "source": [
        "cv.split(X)"
      ]
    },
    {
      "cell_type": "markdown",
      "source": [
        "**Courbe de ROC**"
      ],
      "metadata": {
        "id": "rZ7M9gLRTje-"
      }
    },
    {
      "cell_type": "code",
      "source": [
        "import matplotlib.pyplot as plt\n",
        "from sklearn.metrics import roc_curve\n",
        "\n",
        "def ROC_Courbe (model, X_test, y_test) :\n",
        "  fpr_array, tpr_array, threshold_array = roc_curve(\n",
        "    y_true=y_test, y_score=model.predict(X_test))\n",
        "  plt.plot(fpr_array, tpr_array)\n",
        "  plt.show()\n"
      ],
      "metadata": {
        "id": "ZCNskOmfR2wR"
      },
      "execution_count": null,
      "outputs": []
    },
    {
      "cell_type": "markdown",
      "metadata": {
        "id": "QZ8Xr4GffU_j"
      },
      "source": [
        "**SVM**"
      ]
    },
    {
      "cell_type": "code",
      "execution_count": null,
      "metadata": {
        "colab": {
          "base_uri": "https://localhost:8080/"
        },
        "id": "E0oHV5OCYV6v",
        "outputId": "0cd8e20c-546c-4804-d9c0-63f8a19d6311"
      },
      "outputs": [
        {
          "data": {
            "text/plain": [
              "Pipeline(steps=[('standardscaler', StandardScaler()),\n",
              "                ('svc', SVC(C=1, gamma=0.05))])"
            ]
          },
          "execution_count": 30,
          "metadata": {},
          "output_type": "execute_result"
        }
      ],
      "source": [
        "from sklearn.svm import SVC\n",
        "from sklearn.pipeline import make_pipeline\n",
        "from sklearn.preprocessing import StandardScaler\n",
        "\n",
        "clf = make_pipeline(StandardScaler(), SVC(C = 1, gamma=0.05))\n",
        "clf.fit(X_train, y_train)"
      ]
    },
    {
      "cell_type": "code",
      "execution_count": null,
      "metadata": {
        "colab": {
          "base_uri": "https://localhost:8080/"
        },
        "id": "Q0VSwouyC-VM",
        "outputId": "ca7bbd96-c4eb-4cc0-e02d-5ad900f0b9c5"
      },
      "outputs": [
        {
          "data": {
            "text/plain": [
              "0.8869565217391304"
            ]
          },
          "execution_count": 31,
          "metadata": {},
          "output_type": "execute_result"
        }
      ],
      "source": [
        "clf.score(X_test,y_test)"
      ]
    },
    {
      "cell_type": "code",
      "execution_count": null,
      "metadata": {
        "colab": {
          "base_uri": "https://localhost:8080/"
        },
        "id": "8kRZjm8FhC5n",
        "outputId": "842ff47e-6b3c-477b-8d30-c997c4efbb5e"
      },
      "outputs": [
        {
          "data": {
            "text/plain": [
              "0.842375366568915"
            ]
          },
          "execution_count": 32,
          "metadata": {},
          "output_type": "execute_result"
        }
      ],
      "source": [
        "clf.fit(X_train_eq, y_train_eq)\n",
        "clf.score(X_test_eq,y_test_eq)"
      ]
    },
    {
      "cell_type": "code",
      "execution_count": null,
      "metadata": {
        "colab": {
          "base_uri": "https://localhost:8080/"
        },
        "id": "LYLiXDdwiCk2",
        "outputId": "5cbc714b-d081-4670-f61f-d6ed85245491"
      },
      "outputs": [
        {
          "output_type": "execute_result",
          "data": {
            "text/plain": [
              "GridSearchCV(cv=5, estimator=SVC(),\n",
              "             param_grid={'C': array([1., 2., 3., 4., 5., 6., 7., 8., 9.]),\n",
              "                         'gamma': array([0.05, 0.1 , 0.15, 0.2 , 0.25, 0.3 , 0.35, 0.4 , 0.45, 0.5 , 0.55,\n",
              "       0.6 , 0.65, 0.7 , 0.75, 0.8 , 0.85, 0.9 , 0.95]),\n",
              "                         'kernel': ['rbf', 'sigmoid']})"
            ]
          },
          "metadata": {},
          "execution_count": 16
        }
      ],
      "source": [
        "#grid search in order to find the best parameters of SVM\n",
        "from sklearn.model_selection import GridSearchCV\n",
        "\n",
        "param_grid = {\"C\": np.arange(1.0,10.0),  \"kernel\" :['rbf', 'sigmoid'], \"gamma\": np.arange(0.05,1.0,0.05)}\n",
        "model = SVC()\n",
        "grid = GridSearchCV(model, param_grid, cv=5)\n",
        "grid.fit(X_train, y_train)"
      ]
    },
    {
      "cell_type": "code",
      "execution_count": null,
      "metadata": {
        "id": "mQ9aYA7Ko6-7"
      },
      "outputs": [],
      "source": [
        "grid"
      ]
    },
    {
      "cell_type": "code",
      "execution_count": null,
      "metadata": {
        "colab": {
          "base_uri": "https://localhost:8080/"
        },
        "id": "26Inthv6iiyJ",
        "outputId": "86fdf6d7-dc8f-4030-8c6c-76b79c464d23"
      },
      "outputs": [
        {
          "name": "stdout",
          "output_type": "stream",
          "text": [
            "{'C': 1.0, 'gamma': 0.05, 'kernel': 'rbf'}\n"
          ]
        }
      ],
      "source": [
        "model = grid.best_params_ \n",
        "print(model)"
      ]
    },
    {
      "cell_type": "code",
      "execution_count": null,
      "metadata": {
        "colab": {
          "base_uri": "https://localhost:8080/"
        },
        "id": "N455OUp3oEOS",
        "outputId": "bd8c4252-a7b8-45af-fd8b-2734911c4303"
      },
      "outputs": [
        {
          "output_type": "execute_result",
          "data": {
            "text/plain": [
              "Pipeline(steps=[('standardscaler', StandardScaler()), ('svc', SVC())])"
            ]
          },
          "metadata": {},
          "execution_count": 24
        }
      ],
      "source": [
        "clf = make_pipeline(StandardScaler(), SVC(C=1.0,kernel='rbf'))\n",
        "clf.fit(X_train, y_train)"
      ]
    },
    {
      "cell_type": "code",
      "source": [
        "from sklearn import preprocessing\n",
        "\n",
        "min_max_scaler = preprocessing.MinMaxScaler()\n",
        "X_train_minmax = min_max_scaler.fit_transform(X_train)\n",
        "X_test_minmax = min_max_scaler.fit_transform(X_test)\n",
        "\n",
        "param_grid = {\"C\": np.arange(1.0,10.0),  \"kernel\" :['rbf', 'sigmoid']}\n",
        "model = SVC()\n",
        "grid = GridSearchCV(model, param_grid, cv=5)\n",
        "grid.fit(X_train_minmax, y_train)\n",
        "\n",
        "grid.best_params_ "
      ],
      "metadata": {
        "colab": {
          "base_uri": "https://localhost:8080/"
        },
        "id": "k6eETU7sdOlC",
        "outputId": "d28cf77c-92b1-480f-ff9c-e0393926973c"
      },
      "execution_count": null,
      "outputs": [
        {
          "output_type": "execute_result",
          "data": {
            "text/plain": [
              "{'C': 3.0, 'kernel': 'rbf'}"
            ]
          },
          "metadata": {},
          "execution_count": 38
        }
      ]
    },
    {
      "cell_type": "code",
      "source": [
        "grid.best_score_"
      ],
      "metadata": {
        "colab": {
          "base_uri": "https://localhost:8080/"
        },
        "id": "1zI0MWeleigD",
        "outputId": "c3754243-35dc-45c1-8e8c-3486c58bbb8d"
      },
      "execution_count": null,
      "outputs": [
        {
          "output_type": "execute_result",
          "data": {
            "text/plain": [
              "0.8953063570414305"
            ]
          },
          "metadata": {},
          "execution_count": 39
        }
      ]
    },
    {
      "cell_type": "code",
      "execution_count": null,
      "metadata": {
        "colab": {
          "base_uri": "https://localhost:8080/"
        },
        "id": "dNspcfq0oMLK",
        "outputId": "e3cab2bf-386b-43b4-b22a-63acea365494"
      },
      "outputs": [
        {
          "output_type": "execute_result",
          "data": {
            "text/plain": [
              "0.8919254658385093"
            ]
          },
          "metadata": {},
          "execution_count": 25
        }
      ],
      "source": [
        "clf.score(X_test,y_test)"
      ]
    },
    {
      "cell_type": "code",
      "execution_count": null,
      "metadata": {
        "colab": {
          "base_uri": "https://localhost:8080/"
        },
        "id": "Q0NL9IBuikaY",
        "outputId": "2f2fe111-8006-49fe-ad40-a2e52de8890c"
      },
      "outputs": [
        {
          "data": {
            "text/plain": [
              "0.8487113974672293"
            ]
          },
          "execution_count": 26,
          "metadata": {},
          "output_type": "execute_result"
        }
      ],
      "source": [
        "grid.best_score_"
      ]
    },
    {
      "cell_type": "code",
      "execution_count": null,
      "metadata": {
        "colab": {
          "base_uri": "https://localhost:8080/"
        },
        "id": "vjl6rLUBixG2",
        "outputId": "e3fcb2f1-cf1a-4eb5-e066-258d3e111016"
      },
      "outputs": [
        {
          "data": {
            "text/plain": [
              "0.8397515527950311"
            ]
          },
          "execution_count": 29,
          "metadata": {},
          "output_type": "execute_result"
        }
      ],
      "source": [
        "grid.score(X_test, y_test)"
      ]
    },
    {
      "cell_type": "code",
      "execution_count": null,
      "metadata": {
        "id": "CkOk6qQdYIGp",
        "colab": {
          "base_uri": "https://localhost:8080/"
        },
        "outputId": "d4495741-7094-4568-aceb-1b1fa27f9a2a"
      },
      "outputs": [
        {
          "output_type": "stream",
          "name": "stdout",
          "text": [
            "l :  [0.89565217 0.90559006 0.89689441 0.88198758]\n"
          ]
        },
        {
          "output_type": "execute_result",
          "data": {
            "text/plain": [
              "0.8950310559006212"
            ]
          },
          "metadata": {},
          "execution_count": 30
        }
      ],
      "source": [
        "from sklearn.svm import SVC\n",
        "from sklearn.model_selection import ShuffleSplit\n",
        "from sklearn.model_selection import cross_val_score\n",
        "from sklearn.neighbors import KNeighborsClassifier\n",
        "\n",
        "\n",
        "Shuffle_Split (4, 0.2, SVC(C=1.0,kernel='rbf'), X, y)"
      ]
    },
    {
      "cell_type": "markdown",
      "metadata": {
        "id": "EnbjbALKWwbq"
      },
      "source": [
        "***MLP***"
      ]
    },
    {
      "cell_type": "code",
      "execution_count": null,
      "metadata": {
        "colab": {
          "base_uri": "https://localhost:8080/"
        },
        "id": "U0WjpdfXlYT4",
        "outputId": "fe012393-d0ed-4efd-ddd6-f12bf70bde3b"
      },
      "outputs": [
        {
          "data": {
            "text/plain": [
              "0.8993788819875776"
            ]
          },
          "execution_count": 43,
          "metadata": {},
          "output_type": "execute_result"
        }
      ],
      "source": [
        "from sklearn.neural_network import MLPClassifier\n",
        "\n",
        "clf = MLPClassifier(max_iter=500, activation='logistic', batch_size = 16, solver='adam').fit(X_train, y_train)\n",
        "clf.score(X_test, y_test)"
      ]
    },
    {
      "cell_type": "code",
      "execution_count": null,
      "metadata": {
        "colab": {
          "background_save": true
        },
        "id": "7pqlgmlpYkQS"
      },
      "outputs": [],
      "source": [
        "from sklearn.model_selection import GridSearchCV\n",
        "\n",
        "param_grid = {\"batch_size\": np.arange(2,200) }\n",
        "model = MLPClassifier(max_iter=500, activation='logistic', solver='adam')\n",
        "grid = GridSearchCV(model, param_grid, cv=5)\n",
        "grid.fit(X_train, y_train)"
      ]
    },
    {
      "cell_type": "code",
      "execution_count": null,
      "metadata": {
        "id": "PJpnwT3Oan5Y"
      },
      "outputs": [],
      "source": [
        "model = grid.best_params_ \n",
        "print(model)"
      ]
    },
    {
      "cell_type": "code",
      "execution_count": null,
      "metadata": {
        "colab": {
          "base_uri": "https://localhost:8080/"
        },
        "id": "9j5XSQjPZfMG",
        "outputId": "6b391ac3-4bf4-48ed-ace9-de8be04183d3"
      },
      "outputs": [
        {
          "data": {
            "text/plain": [
              "0.8956521739130435"
            ]
          },
          "execution_count": 41,
          "metadata": {},
          "output_type": "execute_result"
        }
      ],
      "source": [
        "grid.score(X_test, y_test)"
      ]
    },
    {
      "cell_type": "code",
      "source": [
        "ROC_Courbe (grid, X_test, y_test)"
      ],
      "metadata": {
        "id": "47K6jkExfSw9"
      },
      "execution_count": null,
      "outputs": []
    },
    {
      "cell_type": "markdown",
      "source": [
        "***Decision Tree***"
      ],
      "metadata": {
        "id": "XNtZ9Fsb8toW"
      }
    },
    {
      "cell_type": "code",
      "source": [
        "from sklearn import tree"
      ],
      "metadata": {
        "id": "vTVynU498x1E"
      },
      "execution_count": null,
      "outputs": []
    },
    {
      "cell_type": "code",
      "source": [
        "clf = tree.DecisionTreeClassifier(splitter = \"best\", max_depth=4)\n",
        "clf = clf.fit(X_train, y_train)"
      ],
      "metadata": {
        "id": "5WolnSbQ9eSq"
      },
      "execution_count": null,
      "outputs": []
    },
    {
      "cell_type": "code",
      "source": [
        "clf.score(X_test,y_test)"
      ],
      "metadata": {
        "colab": {
          "base_uri": "https://localhost:8080/"
        },
        "id": "_8KXyx3A-PfE",
        "outputId": "24767ca2-adbe-49ff-b69c-7280cac281b8"
      },
      "execution_count": null,
      "outputs": [
        {
          "output_type": "execute_result",
          "data": {
            "text/plain": [
              "0.8857142857142857"
            ]
          },
          "metadata": {},
          "execution_count": 57
        }
      ]
    },
    {
      "cell_type": "code",
      "source": [
        "tree.plot_tree(clf)"
      ],
      "metadata": {
        "id": "H0IcwveE9iRj"
      },
      "execution_count": null,
      "outputs": []
    },
    {
      "cell_type": "code",
      "source": [
        "param_grid = {\"splitter\": [ \"best\", 'random'],\n",
        "              \"criterion\": ['gini', 'entropy']}\n",
        "\n",
        "model = tree.DecisionTreeClassifier()\n",
        "grid = GridSearchCV(model, param_grid, cv=5)\n",
        "grid.fit(X_train, y_train)"
      ],
      "metadata": {
        "colab": {
          "base_uri": "https://localhost:8080/"
        },
        "id": "VvO5m9y09zUd",
        "outputId": "43fc4bde-caf5-469f-e0a1-f8b8031c8005"
      },
      "execution_count": null,
      "outputs": [
        {
          "output_type": "execute_result",
          "data": {
            "text/plain": [
              "GridSearchCV(cv=5, estimator=DecisionTreeClassifier(),\n",
              "             param_grid={'criterion': ['gini', 'entropy'],\n",
              "                         'splitter': ['best', 'random']})"
            ]
          },
          "metadata": {},
          "execution_count": 62
        }
      ]
    },
    {
      "cell_type": "code",
      "source": [
        "model = grid.best_params_ \n",
        "print(model)"
      ],
      "metadata": {
        "colab": {
          "base_uri": "https://localhost:8080/"
        },
        "id": "kEbDtuRII_Cp",
        "outputId": "4c96c310-2ab2-4b23-837e-ba1853976e2d"
      },
      "execution_count": null,
      "outputs": [
        {
          "output_type": "stream",
          "name": "stdout",
          "text": [
            "{'criterion': 'entropy', 'splitter': 'random'}\n"
          ]
        }
      ]
    },
    {
      "cell_type": "code",
      "source": [
        "grid.score(X_test, y_test)"
      ],
      "metadata": {
        "colab": {
          "base_uri": "https://localhost:8080/"
        },
        "id": "DtZKaieWJ03-",
        "outputId": "d28a6c91-1193-4007-cf9a-738968a5d101"
      },
      "execution_count": null,
      "outputs": [
        {
          "output_type": "execute_result",
          "data": {
            "text/plain": [
              "0.8397515527950311"
            ]
          },
          "metadata": {},
          "execution_count": 64
        }
      ]
    },
    {
      "cell_type": "code",
      "source": [],
      "metadata": {
        "id": "_shh81g6KDSc"
      },
      "execution_count": null,
      "outputs": []
    },
    {
      "cell_type": "markdown",
      "source": [
        "\n",
        "\n",
        "---\n",
        "\n"
      ],
      "metadata": {
        "id": "FlDXbXgmTxnW"
      }
    },
    {
      "cell_type": "markdown",
      "source": [
        "\n",
        "\n",
        "> **Voting Classifier**\n",
        "\n"
      ],
      "metadata": {
        "id": "ZjgoVCfrTczQ"
      }
    },
    {
      "cell_type": "code",
      "source": [
        "clf1 = MLPClassifier(max_iter=500, activation='logistic', solver='adam')\n",
        "clf2 = SVC(C=1.0,kernel='rbf', probability=True)\n",
        "clf3 = LogisticRegression(random_state=0)\n",
        "\n",
        "clf_voting = VotingClassifier(estimators=[('mlp', clf1), ('svc', clf2), ('lr', clf3)], voting='hard')\n",
        "clf_voting.fit(X_train, y_train)\n",
        "clf_voting.score(X_test, y_test)"
      ],
      "metadata": {
        "colab": {
          "base_uri": "https://localhost:8080/"
        },
        "id": "sVgtCGYJTmK_",
        "outputId": "a80fa811-cf76-4415-f991-f2046ec86ed6"
      },
      "execution_count": null,
      "outputs": [
        {
          "output_type": "stream",
          "name": "stderr",
          "text": [
            "/usr/local/lib/python3.7/dist-packages/sklearn/linear_model/_logistic.py:818: ConvergenceWarning: lbfgs failed to converge (status=1):\n",
            "STOP: TOTAL NO. of ITERATIONS REACHED LIMIT.\n",
            "\n",
            "Increase the number of iterations (max_iter) or scale the data as shown in:\n",
            "    https://scikit-learn.org/stable/modules/preprocessing.html\n",
            "Please also refer to the documentation for alternative solver options:\n",
            "    https://scikit-learn.org/stable/modules/linear_model.html#logistic-regression\n",
            "  extra_warning_msg=_LOGISTIC_SOLVER_CONVERGENCE_MSG,\n"
          ]
        },
        {
          "output_type": "execute_result",
          "data": {
            "text/plain": [
              "0.8968944099378882"
            ]
          },
          "metadata": {},
          "execution_count": 15
        }
      ]
    },
    {
      "cell_type": "code",
      "source": [
        "clf_voting_soft = VotingClassifier(estimators=[('mlp', clf1), ('svc', clf2), ('lr', clf3)], voting='soft')\n",
        "clf_voting_soft.fit(X_train, y_train)\n",
        "clf_voting_soft.score(X_test, y_test)"
      ],
      "metadata": {
        "colab": {
          "base_uri": "https://localhost:8080/"
        },
        "id": "wG_ZrNUxZd_a",
        "outputId": "6da6f1ac-6bdb-4fdb-fe6e-40351bfb6de6"
      },
      "execution_count": null,
      "outputs": [
        {
          "output_type": "stream",
          "name": "stderr",
          "text": [
            "/usr/local/lib/python3.7/dist-packages/sklearn/linear_model/_logistic.py:818: ConvergenceWarning: lbfgs failed to converge (status=1):\n",
            "STOP: TOTAL NO. of ITERATIONS REACHED LIMIT.\n",
            "\n",
            "Increase the number of iterations (max_iter) or scale the data as shown in:\n",
            "    https://scikit-learn.org/stable/modules/preprocessing.html\n",
            "Please also refer to the documentation for alternative solver options:\n",
            "    https://scikit-learn.org/stable/modules/linear_model.html#logistic-regression\n",
            "  extra_warning_msg=_LOGISTIC_SOLVER_CONVERGENCE_MSG,\n"
          ]
        },
        {
          "output_type": "execute_result",
          "data": {
            "text/plain": [
              "0.8981366459627329"
            ]
          },
          "metadata": {},
          "execution_count": 16
        }
      ]
    },
    {
      "cell_type": "code",
      "source": [
        "ROC_Courbe(clf_voting, X_test, y_test)\n"
      ],
      "metadata": {
        "colab": {
          "base_uri": "https://localhost:8080/",
          "height": 265
        },
        "id": "rD6k3LG9aTEf",
        "outputId": "b44c04e1-d285-425f-8658-3f5479d357c3"
      },
      "execution_count": null,
      "outputs": [
        {
          "output_type": "display_data",
          "data": {
            "text/plain": [
              "<Figure size 432x288 with 1 Axes>"
            ],
            "image/png": "[encoded data removed]"
          },
          "metadata": {
            "needs_background": "light"
          }
        }
      ]
    },
    {
      "cell_type": "code",
      "source": [],
      "metadata": {
        "id": "T-GoxTucQQot"
      },
      "execution_count": null,
      "outputs": []
    },
    {
      "cell_type": "markdown",
      "source": [
        "**Bagging classifier**"
      ],
      "metadata": {
        "id": "tFtC9GKxRFIB"
      }
    },
    {
      "cell_type": "code",
      "source": [
        "from sklearn.ensemble import BaggingClassifier\n",
        "\n",
        "bg_clf = BaggingClassifier(base_estimator=SVC(),n_estimators=10, random_state=0).fit(X_train, y_train)\n",
        "bg_clf.score(X_test,y_test)"
      ],
      "metadata": {
        "colab": {
          "base_uri": "https://localhost:8080/"
        },
        "id": "Si4ug4acRMCa",
        "outputId": "6054fc5f-0eb7-4488-feea-13d51667caff"
      },
      "execution_count": null,
      "outputs": [
        {
          "output_type": "execute_result",
          "data": {
            "text/plain": [
              "0.893167701863354"
            ]
          },
          "metadata": {},
          "execution_count": 25
        }
      ]
    },
    {
      "cell_type": "code",
      "source": [
        "bg_clf = BaggingClassifier(base_estimator=clf2,n_estimators=10, random_state=0).fit(X_train, y_train)\n",
        "bg_clf.score(X_test,y_test)"
      ],
      "metadata": {
        "colab": {
          "base_uri": "https://localhost:8080/"
        },
        "id": "11EdyKv9RpAw",
        "outputId": "201ae1ff-25b7-40f9-de8f-c1789a78cef5"
      },
      "execution_count": null,
      "outputs": [
        {
          "output_type": "execute_result",
          "data": {
            "text/plain": [
              "0.893167701863354"
            ]
          },
          "metadata": {},
          "execution_count": 23
        }
      ]
    },
    {
      "cell_type": "code",
      "source": [
        "ROC_Courbe (bg_clf, X_test, y_test)"
      ],
      "metadata": {
        "colab": {
          "base_uri": "https://localhost:8080/",
          "height": 265
        },
        "id": "NNrq2GEiUJkC",
        "outputId": "4a85f426-4483-484e-c13d-568b084cd677"
      },
      "execution_count": null,
      "outputs": [
        {
          "output_type": "display_data",
          "data": {
            "text/plain": [
              "<Figure size 432x288 with 1 Axes>"
            ],
            "image/png": "[encoded data removed]"
          },
          "metadata": {
            "needs_background": "light"
          }
        }
      ]
    },
    {
      "cell_type": "markdown",
      "source": [
        "**RandomForest**"
      ],
      "metadata": {
        "id": "FEfZuKrQc-Ih"
      }
    },
    {
      "cell_type": "code",
      "source": [
        "from sklearn.ensemble import RandomForestClassifier\n",
        "\n",
        "RF_clf = RandomForestClassifier(max_depth=8, random_state=0)\n",
        "RF_clf.fit(X_train, y_train)\n",
        "RF_clf.score(X_test,y_test)"
      ],
      "metadata": {
        "colab": {
          "base_uri": "https://localhost:8080/"
        },
        "id": "s5lPeQwAaJ19",
        "outputId": "57b2dbd3-f891-448a-986a-4577ed4968d7"
      },
      "execution_count": null,
      "outputs": [
        {
          "output_type": "execute_result",
          "data": {
            "text/plain": [
              "0.901863354037267"
            ]
          },
          "metadata": {},
          "execution_count": 33
        }
      ]
    },
    {
      "cell_type": "code",
      "source": [
        "param_grid = {\"max_depth\": np.arange(1,10)}\n",
        "model = RandomForestClassifier()\n",
        "grid = GridSearchCV(model, param_grid, cv=5)\n",
        "grid.fit(X_train, y_train)\n",
        "print(\"the best parameters are : \",grid.best_params_)\n",
        "print(\"the best score is  : \", grid.best_score_)\n",
        "\n"
      ],
      "metadata": {
        "colab": {
          "base_uri": "https://localhost:8080/"
        },
        "id": "t0rq7qT7anyY",
        "outputId": "04eb5d0a-c182-49d0-c9f6-a2da5690fc86"
      },
      "execution_count": null,
      "outputs": [
        {
          "output_type": "stream",
          "name": "stdout",
          "text": [
            "the best parameters are :  {'max_depth': 8}\n",
            "the best score is  :  0.9086671560909171\n"
          ]
        }
      ]
    },
    {
      "cell_type": "code",
      "source": [
        "ROC_Courbe (RF_clf, X_test, y_test)"
      ],
      "metadata": {
        "colab": {
          "base_uri": "https://localhost:8080/",
          "height": 265
        },
        "id": "obKSWilebYvl",
        "outputId": "ce081b94-9328-4672-e183-2c3876572165"
      },
      "execution_count": null,
      "outputs": [
        {
          "output_type": "display_data",
          "data": {
            "text/plain": [
              "<Figure size 432x288 with 1 Axes>"
            ],
            "image/png": "[encoded data removed]"
          },
          "metadata": {
            "needs_background": "light"
          }
        }
      ]
    },
    {
      "cell_type": "code",
      "source": [],
      "metadata": {
        "id": "wV8sjfzgfN8S"
      },
      "execution_count": null,
      "outputs": []
    }
  ],
  "metadata": {
    "colab": {
      "collapsed_sections": [],
      "provenance": []
    },
    "kernelspec": {
      "display_name": "Python 3",
      "name": "python3"
    },
    "language_info": {
      "name": "python"
    }
  },
  "nbformat": 4,
  "nbformat_minor": 0
}